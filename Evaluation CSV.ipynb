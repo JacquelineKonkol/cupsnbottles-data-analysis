{
 "cells": [
  {
   "cell_type": "code",
   "execution_count": 3,
   "metadata": {},
   "outputs": [],
   "source": [
    "import pandas as pd\n",
    "import os\n",
    "import matplotlib.pyplot as plt\n",
    "import numpy as np\n",
    "import matplotlib.mlab as mlab\n",
    "from shutil import copy2\n",
    "%matplotlib inline  "
   ]
  },
  {
   "cell_type": "code",
   "execution_count": null,
   "metadata": {},
   "outputs": [],
   "source": [
    "df02_properties = pd.read_csv('dataset02/properties.csv', sep=',')\n",
    "print(\"Klassen: \", df02_properties.object_class.unique())\n",
    "print(\"Num Ambiguous: \", df02_properties.ambiguous.sum())\n",
    "overlaps = (df02_properties.overlap[df02_properties.overlap > 0]).count()\n",
    "print(\"Num Overlap: \", overlaps)\n",
    "print(\"Num Gesamt: \", df02_properties.count()[0])"
   ]
  },
  {
   "cell_type": "code",
   "execution_count": null,
   "metadata": {},
   "outputs": [],
   "source": [
    "df03_properties = pd.read_csv('dataset03/properties.csv', sep=',')\n",
    "print(\"Klassen: \", df03_properties.object_class.unique())\n",
    "print(\"Num Ambiguous: \", df03_properties.ambiguous.sum())\n",
    "overlaps = (df03_properties.overlap[df03_properties.overlap > 0]).count()\n",
    "print(\"Num Overlap: \", overlaps)\n",
    "print(\"Num Gesamt: \", df03_properties.count()[0])"
   ]
  },
  {
   "cell_type": "code",
   "execution_count": null,
   "metadata": {},
   "outputs": [],
   "source": [
    "df04_properties = pd.read_csv('dataset04/properties.csv', sep=',')\n",
    "print(\"Klassen: \", df04_properties.object_class.unique())\n",
    "print()\n",
    "print(\"Num Ambiguous: \", df04_properties.ambiguous.sum())\n",
    "overlaps = (df04_properties.overlap[df04_properties.overlap > 0]).count()\n",
    "print(\"Num Overlap: \", overlaps)\n",
    "print(\"Num Gesamt: \", df04_properties.count()[0])\n",
    "print()\n",
    "print(\"Num Fanta: \", (df04_properties.object_class[df04_properties.object_class == 'Fanta']).count())\n",
    "print(\"Num RedBullZero: \", (df04_properties.object_class[df04_properties.object_class == 'RedBullZero']).count())\n",
    "print(\"Num CokeZero: \", (df04_properties.object_class[df04_properties.object_class == 'CokeZero']).count())\n",
    "print(\"Num Coke: \", (df04_properties.object_class[df04_properties.object_class == 'Coke']).count())\n",
    "print(\"Num Jever: \", (df04_properties.object_class[df04_properties.object_class == 'Jever']).count())\n",
    "print(\"Num MakoEnergy: \", (df04_properties.object_class[df04_properties.object_class == 'MakoEnergy']).count())\n",
    "print(\"Num RedBull: \", (df04_properties.object_class[df04_properties.object_class == 'RedBull']).count())\n",
    "print(\"Num Krombacher: \", (df04_properties.object_class[df04_properties.object_class == 'Krombacher']).count())\n",
    "print(\"Num WaterBottle: \", (df04_properties.object_class[df04_properties.object_class == 'WaterBottle']).count())"
   ]
  },
  {
   "cell_type": "code",
   "execution_count": 4,
   "metadata": {},
   "outputs": [
    {
     "name": "stdout",
     "output_type": "stream",
     "text": [
      "Klassen:  ['Pepsi' 'RedBull' 'Water_Lemon' 'MakoEnergy' 'Wine_Red' 'RedBull_Zero'\n",
      " 'Water' 'VitaBuzz' 'Pepsi_Zero' 'Wine_White' 'VitaBuzz_Zero']\n",
      "\n",
      "Num Ambiguous:  166\n",
      "Num Overlap:  215\n",
      "Num Gesamt:  1613\n",
      "\n",
      "Num Pepsi:  136\n",
      "Num RedBullZero:  160\n",
      "Num Pepsi_Zero:  129\n",
      "Num VitaBuzz:  151\n",
      "Num VitaBuzz_Zero:  153\n",
      "Num Wine_White:  126\n",
      "Num Wine_Red:  148\n",
      "Num MakoEnergy:  151\n",
      "Num RedBull:  189\n",
      "Num Water:  123\n",
      "Num Water_Lemon:  147\n"
     ]
    }
   ],
   "source": [
    "df05_properties = pd.read_csv('dataset05/properties.csv', sep=',')\n",
    "print(\"Klassen: \", df05_properties.object_class.unique())\n",
    "print()\n",
    "print(\"Num Ambiguous: \", df05_properties.ambiguous.sum())\n",
    "overlaps = (df05_properties.overlap[df05_properties.overlap > 0]).count()\n",
    "print(\"Num Overlap: \", overlaps)\n",
    "print(\"Num Gesamt: \", df05_properties.count()[0])\n",
    "print()\n",
    "print(\"Num Pepsi: \", (df05_properties.object_class[df05_properties.object_class == 'Pepsi']).count())\n",
    "print(\"Num RedBullZero: \", (df05_properties.object_class[df05_properties.object_class == 'RedBull_Zero']).count())\n",
    "print(\"Num Pepsi_Zero: \", (df05_properties.object_class[df05_properties.object_class == 'Pepsi_Zero']).count())\n",
    "print(\"Num VitaBuzz: \", (df05_properties.object_class[df05_properties.object_class == 'VitaBuzz']).count())\n",
    "print(\"Num VitaBuzz_Zero: \", (df05_properties.object_class[df05_properties.object_class == 'VitaBuzz_Zero']).count())\n",
    "print(\"Num Wine_White: \", (df05_properties.object_class[df05_properties.object_class == 'Wine_White']).count())\n",
    "print(\"Num Wine_Red: \", (df05_properties.object_class[df05_properties.object_class == 'Wine_Red']).count())\n",
    "print(\"Num MakoEnergy: \", (df05_properties.object_class[df05_properties.object_class == 'MakoEnergy']).count())\n",
    "print(\"Num RedBull: \", (df05_properties.object_class[df05_properties.object_class == 'RedBull']).count())\n",
    "print(\"Num Water: \", (df05_properties.object_class[df05_properties.object_class == 'Water']).count())\n",
    "print(\"Num Water_Lemon: \", (df05_properties.object_class[df05_properties.object_class == 'Water_Lemon']).count())"
   ]
  },
  {
   "cell_type": "code",
   "execution_count": null,
   "metadata": {},
   "outputs": [],
   "source": [
    "src_path = 'dataset05/images/'\n",
    "dst_path = 'dataset05/ambiguous/'\n",
    "\n",
    "if not os.path.isdir(dst_path[:-1]):\n",
    "    os.mkdir(dst_path[:-1])\n",
    "\n",
    "idx = (df05_properties.index[df05_properties.ambiguous > 0])\n",
    "for i in idx:\n",
    "    copy2(os.path.join(src_path, str(i) + \".png\"), dst_path)"
   ]
  },
  {
   "cell_type": "code",
   "execution_count": 5,
   "metadata": {
    "scrolled": true
   },
   "outputs": [
    {
     "data": {
      "text/html": [
       "<div>\n",
       "<style scoped>\n",
       "    .dataframe tbody tr th:only-of-type {\n",
       "        vertical-align: middle;\n",
       "    }\n",
       "\n",
       "    .dataframe tbody tr th {\n",
       "        vertical-align: top;\n",
       "    }\n",
       "\n",
       "    .dataframe thead th {\n",
       "        text-align: right;\n",
       "    }\n",
       "</style>\n",
       "<table border=\"1\" class=\"dataframe\">\n",
       "  <thead>\n",
       "    <tr style=\"text-align: right;\">\n",
       "      <th></th>\n",
       "      <th>clf</th>\n",
       "      <th>train score ohne</th>\n",
       "      <th>test score ohne</th>\n",
       "      <th>train score mixed</th>\n",
       "      <th>test score mixed</th>\n",
       "      <th>train score ohne.1</th>\n",
       "      <th>test score nur A</th>\n",
       "    </tr>\n",
       "  </thead>\n",
       "  <tbody>\n",
       "    <tr>\n",
       "      <th>0</th>\n",
       "      <td>nearest_neighbors</td>\n",
       "      <td>0.971344</td>\n",
       "      <td>0.951613</td>\n",
       "      <td>0.942593</td>\n",
       "      <td>0.900563</td>\n",
       "      <td>0.973739</td>\n",
       "      <td>0.500000</td>\n",
       "    </tr>\n",
       "    <tr>\n",
       "      <th>1</th>\n",
       "      <td>linear_svm</td>\n",
       "      <td>1.000000</td>\n",
       "      <td>0.976959</td>\n",
       "      <td>1.000000</td>\n",
       "      <td>0.949343</td>\n",
       "      <td>1.000000</td>\n",
       "      <td>0.590361</td>\n",
       "    </tr>\n",
       "    <tr>\n",
       "      <th>2</th>\n",
       "      <td>rbf_svm</td>\n",
       "      <td>0.990119</td>\n",
       "      <td>0.972350</td>\n",
       "      <td>0.981481</td>\n",
       "      <td>0.953096</td>\n",
       "      <td>0.993089</td>\n",
       "      <td>0.530120</td>\n",
       "    </tr>\n",
       "    <tr>\n",
       "      <th>3</th>\n",
       "      <td>gaussian_process</td>\n",
       "      <td>1.000000</td>\n",
       "      <td>0.094470</td>\n",
       "      <td>1.000000</td>\n",
       "      <td>0.082552</td>\n",
       "      <td>1.000000</td>\n",
       "      <td>0.000000</td>\n",
       "    </tr>\n",
       "    <tr>\n",
       "      <th>4</th>\n",
       "      <td>decision_tree</td>\n",
       "      <td>0.989130</td>\n",
       "      <td>0.870968</td>\n",
       "      <td>0.990741</td>\n",
       "      <td>0.812383</td>\n",
       "      <td>0.995853</td>\n",
       "      <td>0.554217</td>\n",
       "    </tr>\n",
       "    <tr>\n",
       "      <th>5</th>\n",
       "      <td>random_forest</td>\n",
       "      <td>1.000000</td>\n",
       "      <td>0.974654</td>\n",
       "      <td>1.000000</td>\n",
       "      <td>0.932458</td>\n",
       "      <td>1.000000</td>\n",
       "      <td>0.530120</td>\n",
       "    </tr>\n",
       "    <tr>\n",
       "      <th>6</th>\n",
       "      <td>neural_net</td>\n",
       "      <td>1.000000</td>\n",
       "      <td>0.986175</td>\n",
       "      <td>1.000000</td>\n",
       "      <td>0.960600</td>\n",
       "      <td>1.000000</td>\n",
       "      <td>0.602410</td>\n",
       "    </tr>\n",
       "    <tr>\n",
       "      <th>7</th>\n",
       "      <td>naive_bayes</td>\n",
       "      <td>0.975296</td>\n",
       "      <td>0.873272</td>\n",
       "      <td>0.961111</td>\n",
       "      <td>0.838649</td>\n",
       "      <td>0.970974</td>\n",
       "      <td>0.554217</td>\n",
       "    </tr>\n",
       "    <tr>\n",
       "      <th>8</th>\n",
       "      <td>qda</td>\n",
       "      <td>0.896245</td>\n",
       "      <td>0.958525</td>\n",
       "      <td>0.838889</td>\n",
       "      <td>0.930582</td>\n",
       "      <td>0.935729</td>\n",
       "      <td>0.506024</td>\n",
       "    </tr>\n",
       "    <tr>\n",
       "      <th>9</th>\n",
       "      <td>glvq</td>\n",
       "      <td>0.905138</td>\n",
       "      <td>0.882488</td>\n",
       "      <td>0.850926</td>\n",
       "      <td>0.846154</td>\n",
       "      <td>0.905321</td>\n",
       "      <td>0.548193</td>\n",
       "    </tr>\n",
       "  </tbody>\n",
       "</table>\n",
       "</div>"
      ],
      "text/plain": [
       "                 clf  train score ohne  test score ohne  train score mixed  \\\n",
       "0  nearest_neighbors          0.971344         0.951613           0.942593   \n",
       "1         linear_svm          1.000000         0.976959           1.000000   \n",
       "2            rbf_svm          0.990119         0.972350           0.981481   \n",
       "3   gaussian_process          1.000000         0.094470           1.000000   \n",
       "4      decision_tree          0.989130         0.870968           0.990741   \n",
       "5      random_forest          1.000000         0.974654           1.000000   \n",
       "6         neural_net          1.000000         0.986175           1.000000   \n",
       "7        naive_bayes          0.975296         0.873272           0.961111   \n",
       "8                qda          0.896245         0.958525           0.838889   \n",
       "9               glvq          0.905138         0.882488           0.850926   \n",
       "\n",
       "   test score mixed  train score ohne.1  test score nur A  \n",
       "0          0.900563            0.973739          0.500000  \n",
       "1          0.949343            1.000000          0.590361  \n",
       "2          0.953096            0.993089          0.530120  \n",
       "3          0.082552            1.000000          0.000000  \n",
       "4          0.812383            0.995853          0.554217  \n",
       "5          0.932458            1.000000          0.530120  \n",
       "6          0.960600            1.000000          0.602410  \n",
       "7          0.838649            0.970974          0.554217  \n",
       "8          0.930582            0.935729          0.506024  \n",
       "9          0.846154            0.905321          0.548193  "
      ]
     },
     "execution_count": 5,
     "metadata": {},
     "output_type": "execute_result"
    }
   ],
   "source": [
    "df = pd.read_csv('evaluation/dataset05_results_all.csv', sep=';')\n",
    "df"
   ]
  },
  {
   "cell_type": "code",
   "execution_count": 10,
   "metadata": {},
   "outputs": [
    {
     "data": {
      "text/html": [
       "<div>\n",
       "<style scoped>\n",
       "    .dataframe tbody tr th:only-of-type {\n",
       "        vertical-align: middle;\n",
       "    }\n",
       "\n",
       "    .dataframe tbody tr th {\n",
       "        vertical-align: top;\n",
       "    }\n",
       "\n",
       "    .dataframe thead th {\n",
       "        text-align: right;\n",
       "    }\n",
       "</style>\n",
       "<table border=\"1\" class=\"dataframe\">\n",
       "  <thead>\n",
       "    <tr style=\"text-align: right;\">\n",
       "      <th></th>\n",
       "      <th>train score ohne</th>\n",
       "      <th>train score mixed</th>\n",
       "    </tr>\n",
       "  </thead>\n",
       "  <tbody>\n",
       "    <tr>\n",
       "      <th>0</th>\n",
       "      <td>0.971344</td>\n",
       "      <td>0.942593</td>\n",
       "    </tr>\n",
       "    <tr>\n",
       "      <th>1</th>\n",
       "      <td>1.000000</td>\n",
       "      <td>1.000000</td>\n",
       "    </tr>\n",
       "    <tr>\n",
       "      <th>2</th>\n",
       "      <td>0.990119</td>\n",
       "      <td>0.981481</td>\n",
       "    </tr>\n",
       "    <tr>\n",
       "      <th>3</th>\n",
       "      <td>1.000000</td>\n",
       "      <td>1.000000</td>\n",
       "    </tr>\n",
       "    <tr>\n",
       "      <th>4</th>\n",
       "      <td>0.989130</td>\n",
       "      <td>0.990741</td>\n",
       "    </tr>\n",
       "    <tr>\n",
       "      <th>5</th>\n",
       "      <td>1.000000</td>\n",
       "      <td>1.000000</td>\n",
       "    </tr>\n",
       "    <tr>\n",
       "      <th>6</th>\n",
       "      <td>1.000000</td>\n",
       "      <td>1.000000</td>\n",
       "    </tr>\n",
       "    <tr>\n",
       "      <th>7</th>\n",
       "      <td>0.975296</td>\n",
       "      <td>0.961111</td>\n",
       "    </tr>\n",
       "    <tr>\n",
       "      <th>8</th>\n",
       "      <td>0.896245</td>\n",
       "      <td>0.838889</td>\n",
       "    </tr>\n",
       "    <tr>\n",
       "      <th>9</th>\n",
       "      <td>0.905138</td>\n",
       "      <td>0.850926</td>\n",
       "    </tr>\n",
       "  </tbody>\n",
       "</table>\n",
       "</div>"
      ],
      "text/plain": [
       "   train score ohne  train score mixed\n",
       "0          0.971344           0.942593\n",
       "1          1.000000           1.000000\n",
       "2          0.990119           0.981481\n",
       "3          1.000000           1.000000\n",
       "4          0.989130           0.990741\n",
       "5          1.000000           1.000000\n",
       "6          1.000000           1.000000\n",
       "7          0.975296           0.961111\n",
       "8          0.896245           0.838889\n",
       "9          0.905138           0.850926"
      ]
     },
     "execution_count": 10,
     "metadata": {},
     "output_type": "execute_result"
    }
   ],
   "source": [
    "columns_test = df[['test score ohne', 'test score mixed', 'test score nur A']]\n",
    "columns_train = df[['train score ohne', 'train score mixed']]\n",
    "columns_train"
   ]
  },
  {
   "cell_type": "code",
   "execution_count": 13,
   "metadata": {},
   "outputs": [
    {
     "data": {
      "application/vnd.plotly.v1+json": {
       "config": {
        "plotlyServerURL": "https://plot.ly"
       },
       "data": [
        {
         "mode": "lines",
         "name": "nearest_neighbors",
         "type": "scatter",
         "x": [
          0,
          1,
          2
         ],
         "y": [
          0.9713438735177866,
          0.9425925925925924
         ]
        },
        {
         "mode": "lines",
         "name": "linear_svm",
         "type": "scatter",
         "x": [
          0,
          1,
          2
         ],
         "y": [
          1,
          1
         ]
        },
        {
         "mode": "lines",
         "name": "rbf_svm",
         "type": "scatter",
         "x": [
          0,
          1,
          2
         ],
         "y": [
          0.9901185770750988,
          0.9814814814814816
         ]
        },
        {
         "mode": "lines",
         "name": "gaussian_process",
         "type": "scatter",
         "x": [
          0,
          1,
          2
         ],
         "y": [
          1,
          1
         ]
        },
        {
         "mode": "lines",
         "name": "decision_tree",
         "type": "scatter",
         "x": [
          0,
          1,
          2
         ],
         "y": [
          0.9891304347826086,
          0.9907407407407408
         ]
        },
        {
         "mode": "lines",
         "name": "random_forest",
         "type": "scatter",
         "x": [
          0,
          1,
          2
         ],
         "y": [
          1,
          1
         ]
        },
        {
         "mode": "lines",
         "name": "neural_net",
         "type": "scatter",
         "x": [
          0,
          1,
          2
         ],
         "y": [
          1,
          1
         ]
        },
        {
         "mode": "lines",
         "name": "naive_bayes",
         "type": "scatter",
         "x": [
          0,
          1,
          2
         ],
         "y": [
          0.9752964426877472,
          0.9611111111111112
         ]
        },
        {
         "mode": "lines",
         "name": "qda",
         "type": "scatter",
         "x": [
          0,
          1,
          2
         ],
         "y": [
          0.8962450592885376,
          0.8388888888888889
         ]
        },
        {
         "mode": "lines",
         "name": "glvq",
         "type": "scatter",
         "x": [
          0,
          1,
          2
         ],
         "y": [
          0.9051383399209486,
          0.850925925925926
         ]
        }
       ],
       "layout": {
        "template": {
         "data": {
          "bar": [
           {
            "error_x": {
             "color": "#2a3f5f"
            },
            "error_y": {
             "color": "#2a3f5f"
            },
            "marker": {
             "line": {
              "color": "#E5ECF6",
              "width": 0.5
             }
            },
            "type": "bar"
           }
          ],
          "barpolar": [
           {
            "marker": {
             "line": {
              "color": "#E5ECF6",
              "width": 0.5
             }
            },
            "type": "barpolar"
           }
          ],
          "carpet": [
           {
            "aaxis": {
             "endlinecolor": "#2a3f5f",
             "gridcolor": "white",
             "linecolor": "white",
             "minorgridcolor": "white",
             "startlinecolor": "#2a3f5f"
            },
            "baxis": {
             "endlinecolor": "#2a3f5f",
             "gridcolor": "white",
             "linecolor": "white",
             "minorgridcolor": "white",
             "startlinecolor": "#2a3f5f"
            },
            "type": "carpet"
           }
          ],
          "choropleth": [
           {
            "colorbar": {
             "outlinewidth": 0,
             "ticks": ""
            },
            "type": "choropleth"
           }
          ],
          "contour": [
           {
            "colorbar": {
             "outlinewidth": 0,
             "ticks": ""
            },
            "colorscale": [
             [
              0,
              "#0d0887"
             ],
             [
              0.1111111111111111,
              "#46039f"
             ],
             [
              0.2222222222222222,
              "#7201a8"
             ],
             [
              0.3333333333333333,
              "#9c179e"
             ],
             [
              0.4444444444444444,
              "#bd3786"
             ],
             [
              0.5555555555555556,
              "#d8576b"
             ],
             [
              0.6666666666666666,
              "#ed7953"
             ],
             [
              0.7777777777777778,
              "#fb9f3a"
             ],
             [
              0.8888888888888888,
              "#fdca26"
             ],
             [
              1,
              "#f0f921"
             ]
            ],
            "type": "contour"
           }
          ],
          "contourcarpet": [
           {
            "colorbar": {
             "outlinewidth": 0,
             "ticks": ""
            },
            "type": "contourcarpet"
           }
          ],
          "heatmap": [
           {
            "colorbar": {
             "outlinewidth": 0,
             "ticks": ""
            },
            "colorscale": [
             [
              0,
              "#0d0887"
             ],
             [
              0.1111111111111111,
              "#46039f"
             ],
             [
              0.2222222222222222,
              "#7201a8"
             ],
             [
              0.3333333333333333,
              "#9c179e"
             ],
             [
              0.4444444444444444,
              "#bd3786"
             ],
             [
              0.5555555555555556,
              "#d8576b"
             ],
             [
              0.6666666666666666,
              "#ed7953"
             ],
             [
              0.7777777777777778,
              "#fb9f3a"
             ],
             [
              0.8888888888888888,
              "#fdca26"
             ],
             [
              1,
              "#f0f921"
             ]
            ],
            "type": "heatmap"
           }
          ],
          "heatmapgl": [
           {
            "colorbar": {
             "outlinewidth": 0,
             "ticks": ""
            },
            "colorscale": [
             [
              0,
              "#0d0887"
             ],
             [
              0.1111111111111111,
              "#46039f"
             ],
             [
              0.2222222222222222,
              "#7201a8"
             ],
             [
              0.3333333333333333,
              "#9c179e"
             ],
             [
              0.4444444444444444,
              "#bd3786"
             ],
             [
              0.5555555555555556,
              "#d8576b"
             ],
             [
              0.6666666666666666,
              "#ed7953"
             ],
             [
              0.7777777777777778,
              "#fb9f3a"
             ],
             [
              0.8888888888888888,
              "#fdca26"
             ],
             [
              1,
              "#f0f921"
             ]
            ],
            "type": "heatmapgl"
           }
          ],
          "histogram": [
           {
            "marker": {
             "colorbar": {
              "outlinewidth": 0,
              "ticks": ""
             }
            },
            "type": "histogram"
           }
          ],
          "histogram2d": [
           {
            "colorbar": {
             "outlinewidth": 0,
             "ticks": ""
            },
            "colorscale": [
             [
              0,
              "#0d0887"
             ],
             [
              0.1111111111111111,
              "#46039f"
             ],
             [
              0.2222222222222222,
              "#7201a8"
             ],
             [
              0.3333333333333333,
              "#9c179e"
             ],
             [
              0.4444444444444444,
              "#bd3786"
             ],
             [
              0.5555555555555556,
              "#d8576b"
             ],
             [
              0.6666666666666666,
              "#ed7953"
             ],
             [
              0.7777777777777778,
              "#fb9f3a"
             ],
             [
              0.8888888888888888,
              "#fdca26"
             ],
             [
              1,
              "#f0f921"
             ]
            ],
            "type": "histogram2d"
           }
          ],
          "histogram2dcontour": [
           {
            "colorbar": {
             "outlinewidth": 0,
             "ticks": ""
            },
            "colorscale": [
             [
              0,
              "#0d0887"
             ],
             [
              0.1111111111111111,
              "#46039f"
             ],
             [
              0.2222222222222222,
              "#7201a8"
             ],
             [
              0.3333333333333333,
              "#9c179e"
             ],
             [
              0.4444444444444444,
              "#bd3786"
             ],
             [
              0.5555555555555556,
              "#d8576b"
             ],
             [
              0.6666666666666666,
              "#ed7953"
             ],
             [
              0.7777777777777778,
              "#fb9f3a"
             ],
             [
              0.8888888888888888,
              "#fdca26"
             ],
             [
              1,
              "#f0f921"
             ]
            ],
            "type": "histogram2dcontour"
           }
          ],
          "mesh3d": [
           {
            "colorbar": {
             "outlinewidth": 0,
             "ticks": ""
            },
            "type": "mesh3d"
           }
          ],
          "parcoords": [
           {
            "line": {
             "colorbar": {
              "outlinewidth": 0,
              "ticks": ""
             }
            },
            "type": "parcoords"
           }
          ],
          "pie": [
           {
            "automargin": true,
            "type": "pie"
           }
          ],
          "scatter": [
           {
            "marker": {
             "colorbar": {
              "outlinewidth": 0,
              "ticks": ""
             }
            },
            "type": "scatter"
           }
          ],
          "scatter3d": [
           {
            "line": {
             "colorbar": {
              "outlinewidth": 0,
              "ticks": ""
             }
            },
            "marker": {
             "colorbar": {
              "outlinewidth": 0,
              "ticks": ""
             }
            },
            "type": "scatter3d"
           }
          ],
          "scattercarpet": [
           {
            "marker": {
             "colorbar": {
              "outlinewidth": 0,
              "ticks": ""
             }
            },
            "type": "scattercarpet"
           }
          ],
          "scattergeo": [
           {
            "marker": {
             "colorbar": {
              "outlinewidth": 0,
              "ticks": ""
             }
            },
            "type": "scattergeo"
           }
          ],
          "scattergl": [
           {
            "marker": {
             "colorbar": {
              "outlinewidth": 0,
              "ticks": ""
             }
            },
            "type": "scattergl"
           }
          ],
          "scattermapbox": [
           {
            "marker": {
             "colorbar": {
              "outlinewidth": 0,
              "ticks": ""
             }
            },
            "type": "scattermapbox"
           }
          ],
          "scatterpolar": [
           {
            "marker": {
             "colorbar": {
              "outlinewidth": 0,
              "ticks": ""
             }
            },
            "type": "scatterpolar"
           }
          ],
          "scatterpolargl": [
           {
            "marker": {
             "colorbar": {
              "outlinewidth": 0,
              "ticks": ""
             }
            },
            "type": "scatterpolargl"
           }
          ],
          "scatterternary": [
           {
            "marker": {
             "colorbar": {
              "outlinewidth": 0,
              "ticks": ""
             }
            },
            "type": "scatterternary"
           }
          ],
          "surface": [
           {
            "colorbar": {
             "outlinewidth": 0,
             "ticks": ""
            },
            "colorscale": [
             [
              0,
              "#0d0887"
             ],
             [
              0.1111111111111111,
              "#46039f"
             ],
             [
              0.2222222222222222,
              "#7201a8"
             ],
             [
              0.3333333333333333,
              "#9c179e"
             ],
             [
              0.4444444444444444,
              "#bd3786"
             ],
             [
              0.5555555555555556,
              "#d8576b"
             ],
             [
              0.6666666666666666,
              "#ed7953"
             ],
             [
              0.7777777777777778,
              "#fb9f3a"
             ],
             [
              0.8888888888888888,
              "#fdca26"
             ],
             [
              1,
              "#f0f921"
             ]
            ],
            "type": "surface"
           }
          ],
          "table": [
           {
            "cells": {
             "fill": {
              "color": "#EBF0F8"
             },
             "line": {
              "color": "white"
             }
            },
            "header": {
             "fill": {
              "color": "#C8D4E3"
             },
             "line": {
              "color": "white"
             }
            },
            "type": "table"
           }
          ]
         },
         "layout": {
          "annotationdefaults": {
           "arrowcolor": "#2a3f5f",
           "arrowhead": 0,
           "arrowwidth": 1
          },
          "coloraxis": {
           "colorbar": {
            "outlinewidth": 0,
            "ticks": ""
           }
          },
          "colorscale": {
           "diverging": [
            [
             0,
             "#8e0152"
            ],
            [
             0.1,
             "#c51b7d"
            ],
            [
             0.2,
             "#de77ae"
            ],
            [
             0.3,
             "#f1b6da"
            ],
            [
             0.4,
             "#fde0ef"
            ],
            [
             0.5,
             "#f7f7f7"
            ],
            [
             0.6,
             "#e6f5d0"
            ],
            [
             0.7,
             "#b8e186"
            ],
            [
             0.8,
             "#7fbc41"
            ],
            [
             0.9,
             "#4d9221"
            ],
            [
             1,
             "#276419"
            ]
           ],
           "sequential": [
            [
             0,
             "#0d0887"
            ],
            [
             0.1111111111111111,
             "#46039f"
            ],
            [
             0.2222222222222222,
             "#7201a8"
            ],
            [
             0.3333333333333333,
             "#9c179e"
            ],
            [
             0.4444444444444444,
             "#bd3786"
            ],
            [
             0.5555555555555556,
             "#d8576b"
            ],
            [
             0.6666666666666666,
             "#ed7953"
            ],
            [
             0.7777777777777778,
             "#fb9f3a"
            ],
            [
             0.8888888888888888,
             "#fdca26"
            ],
            [
             1,
             "#f0f921"
            ]
           ],
           "sequentialminus": [
            [
             0,
             "#0d0887"
            ],
            [
             0.1111111111111111,
             "#46039f"
            ],
            [
             0.2222222222222222,
             "#7201a8"
            ],
            [
             0.3333333333333333,
             "#9c179e"
            ],
            [
             0.4444444444444444,
             "#bd3786"
            ],
            [
             0.5555555555555556,
             "#d8576b"
            ],
            [
             0.6666666666666666,
             "#ed7953"
            ],
            [
             0.7777777777777778,
             "#fb9f3a"
            ],
            [
             0.8888888888888888,
             "#fdca26"
            ],
            [
             1,
             "#f0f921"
            ]
           ]
          },
          "colorway": [
           "#636efa",
           "#EF553B",
           "#00cc96",
           "#ab63fa",
           "#FFA15A",
           "#19d3f3",
           "#FF6692",
           "#B6E880",
           "#FF97FF",
           "#FECB52"
          ],
          "font": {
           "color": "#2a3f5f"
          },
          "geo": {
           "bgcolor": "white",
           "lakecolor": "white",
           "landcolor": "#E5ECF6",
           "showlakes": true,
           "showland": true,
           "subunitcolor": "white"
          },
          "hoverlabel": {
           "align": "left"
          },
          "hovermode": "closest",
          "mapbox": {
           "style": "light"
          },
          "paper_bgcolor": "white",
          "plot_bgcolor": "#E5ECF6",
          "polar": {
           "angularaxis": {
            "gridcolor": "white",
            "linecolor": "white",
            "ticks": ""
           },
           "bgcolor": "#E5ECF6",
           "radialaxis": {
            "gridcolor": "white",
            "linecolor": "white",
            "ticks": ""
           }
          },
          "scene": {
           "xaxis": {
            "backgroundcolor": "#E5ECF6",
            "gridcolor": "white",
            "gridwidth": 2,
            "linecolor": "white",
            "showbackground": true,
            "ticks": "",
            "zerolinecolor": "white"
           },
           "yaxis": {
            "backgroundcolor": "#E5ECF6",
            "gridcolor": "white",
            "gridwidth": 2,
            "linecolor": "white",
            "showbackground": true,
            "ticks": "",
            "zerolinecolor": "white"
           },
           "zaxis": {
            "backgroundcolor": "#E5ECF6",
            "gridcolor": "white",
            "gridwidth": 2,
            "linecolor": "white",
            "showbackground": true,
            "ticks": "",
            "zerolinecolor": "white"
           }
          },
          "shapedefaults": {
           "line": {
            "color": "#2a3f5f"
           }
          },
          "ternary": {
           "aaxis": {
            "gridcolor": "white",
            "linecolor": "white",
            "ticks": ""
           },
           "baxis": {
            "gridcolor": "white",
            "linecolor": "white",
            "ticks": ""
           },
           "bgcolor": "#E5ECF6",
           "caxis": {
            "gridcolor": "white",
            "linecolor": "white",
            "ticks": ""
           }
          },
          "title": {
           "x": 0.05
          },
          "xaxis": {
           "automargin": true,
           "gridcolor": "white",
           "linecolor": "white",
           "ticks": "",
           "title": {
            "standoff": 15
           },
           "zerolinecolor": "white",
           "zerolinewidth": 2
          },
          "yaxis": {
           "automargin": true,
           "gridcolor": "white",
           "linecolor": "white",
           "ticks": "",
           "title": {
            "standoff": 15
           },
           "zerolinecolor": "white",
           "zerolinewidth": 2
          }
         }
        },
        "xaxis": {
         "tickmode": "array",
         "ticktext": [
          "Ohne Ambiguous",
          "Gemixed",
          "Nur Ambigious"
         ],
         "tickvals": [
          0,
          1,
          2
         ]
        },
        "yaxis": {
         "title": {
          "text": "Train Score Clfs"
         }
        }
       }
      },
      "text/html": [
       "<div>\n",
       "        \n",
       "        \n",
       "            <div id=\"b5062c85-f975-4890-8ed3-05c83683f1b8\" class=\"plotly-graph-div\" style=\"height:525px; width:100%;\"></div>\n",
       "            <script type=\"text/javascript\">\n",
       "                require([\"plotly\"], function(Plotly) {\n",
       "                    window.PLOTLYENV=window.PLOTLYENV || {};\n",
       "                    \n",
       "                if (document.getElementById(\"b5062c85-f975-4890-8ed3-05c83683f1b8\")) {\n",
       "                    Plotly.newPlot(\n",
       "                        'b5062c85-f975-4890-8ed3-05c83683f1b8',\n",
       "                        [{\"mode\": \"lines\", \"name\": \"nearest_neighbors\", \"type\": \"scatter\", \"x\": [0, 1, 2], \"y\": [0.9713438735177866, 0.9425925925925924]}, {\"mode\": \"lines\", \"name\": \"linear_svm\", \"type\": \"scatter\", \"x\": [0, 1, 2], \"y\": [1.0, 1.0]}, {\"mode\": \"lines\", \"name\": \"rbf_svm\", \"type\": \"scatter\", \"x\": [0, 1, 2], \"y\": [0.9901185770750988, 0.9814814814814816]}, {\"mode\": \"lines\", \"name\": \"gaussian_process\", \"type\": \"scatter\", \"x\": [0, 1, 2], \"y\": [1.0, 1.0]}, {\"mode\": \"lines\", \"name\": \"decision_tree\", \"type\": \"scatter\", \"x\": [0, 1, 2], \"y\": [0.9891304347826086, 0.9907407407407408]}, {\"mode\": \"lines\", \"name\": \"random_forest\", \"type\": \"scatter\", \"x\": [0, 1, 2], \"y\": [1.0, 1.0]}, {\"mode\": \"lines\", \"name\": \"neural_net\", \"type\": \"scatter\", \"x\": [0, 1, 2], \"y\": [1.0, 1.0]}, {\"mode\": \"lines\", \"name\": \"naive_bayes\", \"type\": \"scatter\", \"x\": [0, 1, 2], \"y\": [0.9752964426877472, 0.9611111111111112]}, {\"mode\": \"lines\", \"name\": \"qda\", \"type\": \"scatter\", \"x\": [0, 1, 2], \"y\": [0.8962450592885376, 0.8388888888888889]}, {\"mode\": \"lines\", \"name\": \"glvq\", \"type\": \"scatter\", \"x\": [0, 1, 2], \"y\": [0.9051383399209486, 0.850925925925926]}],\n",
       "                        {\"template\": {\"data\": {\"bar\": [{\"error_x\": {\"color\": \"#2a3f5f\"}, \"error_y\": {\"color\": \"#2a3f5f\"}, \"marker\": {\"line\": {\"color\": \"#E5ECF6\", \"width\": 0.5}}, \"type\": \"bar\"}], \"barpolar\": [{\"marker\": {\"line\": {\"color\": \"#E5ECF6\", \"width\": 0.5}}, \"type\": \"barpolar\"}], \"carpet\": [{\"aaxis\": {\"endlinecolor\": \"#2a3f5f\", \"gridcolor\": \"white\", \"linecolor\": \"white\", \"minorgridcolor\": \"white\", \"startlinecolor\": \"#2a3f5f\"}, \"baxis\": {\"endlinecolor\": \"#2a3f5f\", \"gridcolor\": \"white\", \"linecolor\": \"white\", \"minorgridcolor\": \"white\", \"startlinecolor\": \"#2a3f5f\"}, \"type\": \"carpet\"}], \"choropleth\": [{\"colorbar\": {\"outlinewidth\": 0, \"ticks\": \"\"}, \"type\": \"choropleth\"}], \"contour\": [{\"colorbar\": {\"outlinewidth\": 0, \"ticks\": \"\"}, \"colorscale\": [[0.0, \"#0d0887\"], [0.1111111111111111, \"#46039f\"], [0.2222222222222222, \"#7201a8\"], [0.3333333333333333, \"#9c179e\"], [0.4444444444444444, \"#bd3786\"], [0.5555555555555556, \"#d8576b\"], [0.6666666666666666, \"#ed7953\"], [0.7777777777777778, \"#fb9f3a\"], [0.8888888888888888, \"#fdca26\"], [1.0, \"#f0f921\"]], \"type\": \"contour\"}], \"contourcarpet\": [{\"colorbar\": {\"outlinewidth\": 0, \"ticks\": \"\"}, \"type\": \"contourcarpet\"}], \"heatmap\": [{\"colorbar\": {\"outlinewidth\": 0, \"ticks\": \"\"}, \"colorscale\": [[0.0, \"#0d0887\"], [0.1111111111111111, \"#46039f\"], [0.2222222222222222, \"#7201a8\"], [0.3333333333333333, \"#9c179e\"], [0.4444444444444444, \"#bd3786\"], [0.5555555555555556, \"#d8576b\"], [0.6666666666666666, \"#ed7953\"], [0.7777777777777778, \"#fb9f3a\"], [0.8888888888888888, \"#fdca26\"], [1.0, \"#f0f921\"]], \"type\": \"heatmap\"}], \"heatmapgl\": [{\"colorbar\": {\"outlinewidth\": 0, \"ticks\": \"\"}, \"colorscale\": [[0.0, \"#0d0887\"], [0.1111111111111111, \"#46039f\"], [0.2222222222222222, \"#7201a8\"], [0.3333333333333333, \"#9c179e\"], [0.4444444444444444, \"#bd3786\"], [0.5555555555555556, \"#d8576b\"], [0.6666666666666666, \"#ed7953\"], [0.7777777777777778, \"#fb9f3a\"], [0.8888888888888888, \"#fdca26\"], [1.0, \"#f0f921\"]], \"type\": \"heatmapgl\"}], \"histogram\": [{\"marker\": {\"colorbar\": {\"outlinewidth\": 0, \"ticks\": \"\"}}, \"type\": \"histogram\"}], \"histogram2d\": [{\"colorbar\": {\"outlinewidth\": 0, \"ticks\": \"\"}, \"colorscale\": [[0.0, \"#0d0887\"], [0.1111111111111111, \"#46039f\"], [0.2222222222222222, \"#7201a8\"], [0.3333333333333333, \"#9c179e\"], [0.4444444444444444, \"#bd3786\"], [0.5555555555555556, \"#d8576b\"], [0.6666666666666666, \"#ed7953\"], [0.7777777777777778, \"#fb9f3a\"], [0.8888888888888888, \"#fdca26\"], [1.0, \"#f0f921\"]], \"type\": \"histogram2d\"}], \"histogram2dcontour\": [{\"colorbar\": {\"outlinewidth\": 0, \"ticks\": \"\"}, \"colorscale\": [[0.0, \"#0d0887\"], [0.1111111111111111, \"#46039f\"], [0.2222222222222222, \"#7201a8\"], [0.3333333333333333, \"#9c179e\"], [0.4444444444444444, \"#bd3786\"], [0.5555555555555556, \"#d8576b\"], [0.6666666666666666, \"#ed7953\"], [0.7777777777777778, \"#fb9f3a\"], [0.8888888888888888, \"#fdca26\"], [1.0, \"#f0f921\"]], \"type\": \"histogram2dcontour\"}], \"mesh3d\": [{\"colorbar\": {\"outlinewidth\": 0, \"ticks\": \"\"}, \"type\": \"mesh3d\"}], \"parcoords\": [{\"line\": {\"colorbar\": {\"outlinewidth\": 0, \"ticks\": \"\"}}, \"type\": \"parcoords\"}], \"pie\": [{\"automargin\": true, \"type\": \"pie\"}], \"scatter\": [{\"marker\": {\"colorbar\": {\"outlinewidth\": 0, \"ticks\": \"\"}}, \"type\": \"scatter\"}], \"scatter3d\": [{\"line\": {\"colorbar\": {\"outlinewidth\": 0, \"ticks\": \"\"}}, \"marker\": {\"colorbar\": {\"outlinewidth\": 0, \"ticks\": \"\"}}, \"type\": \"scatter3d\"}], \"scattercarpet\": [{\"marker\": {\"colorbar\": {\"outlinewidth\": 0, \"ticks\": \"\"}}, \"type\": \"scattercarpet\"}], \"scattergeo\": [{\"marker\": {\"colorbar\": {\"outlinewidth\": 0, \"ticks\": \"\"}}, \"type\": \"scattergeo\"}], \"scattergl\": [{\"marker\": {\"colorbar\": {\"outlinewidth\": 0, \"ticks\": \"\"}}, \"type\": \"scattergl\"}], \"scattermapbox\": [{\"marker\": {\"colorbar\": {\"outlinewidth\": 0, \"ticks\": \"\"}}, \"type\": \"scattermapbox\"}], \"scatterpolar\": [{\"marker\": {\"colorbar\": {\"outlinewidth\": 0, \"ticks\": \"\"}}, \"type\": \"scatterpolar\"}], \"scatterpolargl\": [{\"marker\": {\"colorbar\": {\"outlinewidth\": 0, \"ticks\": \"\"}}, \"type\": \"scatterpolargl\"}], \"scatterternary\": [{\"marker\": {\"colorbar\": {\"outlinewidth\": 0, \"ticks\": \"\"}}, \"type\": \"scatterternary\"}], \"surface\": [{\"colorbar\": {\"outlinewidth\": 0, \"ticks\": \"\"}, \"colorscale\": [[0.0, \"#0d0887\"], [0.1111111111111111, \"#46039f\"], [0.2222222222222222, \"#7201a8\"], [0.3333333333333333, \"#9c179e\"], [0.4444444444444444, \"#bd3786\"], [0.5555555555555556, \"#d8576b\"], [0.6666666666666666, \"#ed7953\"], [0.7777777777777778, \"#fb9f3a\"], [0.8888888888888888, \"#fdca26\"], [1.0, \"#f0f921\"]], \"type\": \"surface\"}], \"table\": [{\"cells\": {\"fill\": {\"color\": \"#EBF0F8\"}, \"line\": {\"color\": \"white\"}}, \"header\": {\"fill\": {\"color\": \"#C8D4E3\"}, \"line\": {\"color\": \"white\"}}, \"type\": \"table\"}]}, \"layout\": {\"annotationdefaults\": {\"arrowcolor\": \"#2a3f5f\", \"arrowhead\": 0, \"arrowwidth\": 1}, \"coloraxis\": {\"colorbar\": {\"outlinewidth\": 0, \"ticks\": \"\"}}, \"colorscale\": {\"diverging\": [[0, \"#8e0152\"], [0.1, \"#c51b7d\"], [0.2, \"#de77ae\"], [0.3, \"#f1b6da\"], [0.4, \"#fde0ef\"], [0.5, \"#f7f7f7\"], [0.6, \"#e6f5d0\"], [0.7, \"#b8e186\"], [0.8, \"#7fbc41\"], [0.9, \"#4d9221\"], [1, \"#276419\"]], \"sequential\": [[0.0, \"#0d0887\"], [0.1111111111111111, \"#46039f\"], [0.2222222222222222, \"#7201a8\"], [0.3333333333333333, \"#9c179e\"], [0.4444444444444444, \"#bd3786\"], [0.5555555555555556, \"#d8576b\"], [0.6666666666666666, \"#ed7953\"], [0.7777777777777778, \"#fb9f3a\"], [0.8888888888888888, \"#fdca26\"], [1.0, \"#f0f921\"]], \"sequentialminus\": [[0.0, \"#0d0887\"], [0.1111111111111111, \"#46039f\"], [0.2222222222222222, \"#7201a8\"], [0.3333333333333333, \"#9c179e\"], [0.4444444444444444, \"#bd3786\"], [0.5555555555555556, \"#d8576b\"], [0.6666666666666666, \"#ed7953\"], [0.7777777777777778, \"#fb9f3a\"], [0.8888888888888888, \"#fdca26\"], [1.0, \"#f0f921\"]]}, \"colorway\": [\"#636efa\", \"#EF553B\", \"#00cc96\", \"#ab63fa\", \"#FFA15A\", \"#19d3f3\", \"#FF6692\", \"#B6E880\", \"#FF97FF\", \"#FECB52\"], \"font\": {\"color\": \"#2a3f5f\"}, \"geo\": {\"bgcolor\": \"white\", \"lakecolor\": \"white\", \"landcolor\": \"#E5ECF6\", \"showlakes\": true, \"showland\": true, \"subunitcolor\": \"white\"}, \"hoverlabel\": {\"align\": \"left\"}, \"hovermode\": \"closest\", \"mapbox\": {\"style\": \"light\"}, \"paper_bgcolor\": \"white\", \"plot_bgcolor\": \"#E5ECF6\", \"polar\": {\"angularaxis\": {\"gridcolor\": \"white\", \"linecolor\": \"white\", \"ticks\": \"\"}, \"bgcolor\": \"#E5ECF6\", \"radialaxis\": {\"gridcolor\": \"white\", \"linecolor\": \"white\", \"ticks\": \"\"}}, \"scene\": {\"xaxis\": {\"backgroundcolor\": \"#E5ECF6\", \"gridcolor\": \"white\", \"gridwidth\": 2, \"linecolor\": \"white\", \"showbackground\": true, \"ticks\": \"\", \"zerolinecolor\": \"white\"}, \"yaxis\": {\"backgroundcolor\": \"#E5ECF6\", \"gridcolor\": \"white\", \"gridwidth\": 2, \"linecolor\": \"white\", \"showbackground\": true, \"ticks\": \"\", \"zerolinecolor\": \"white\"}, \"zaxis\": {\"backgroundcolor\": \"#E5ECF6\", \"gridcolor\": \"white\", \"gridwidth\": 2, \"linecolor\": \"white\", \"showbackground\": true, \"ticks\": \"\", \"zerolinecolor\": \"white\"}}, \"shapedefaults\": {\"line\": {\"color\": \"#2a3f5f\"}}, \"ternary\": {\"aaxis\": {\"gridcolor\": \"white\", \"linecolor\": \"white\", \"ticks\": \"\"}, \"baxis\": {\"gridcolor\": \"white\", \"linecolor\": \"white\", \"ticks\": \"\"}, \"bgcolor\": \"#E5ECF6\", \"caxis\": {\"gridcolor\": \"white\", \"linecolor\": \"white\", \"ticks\": \"\"}}, \"title\": {\"x\": 0.05}, \"xaxis\": {\"automargin\": true, \"gridcolor\": \"white\", \"linecolor\": \"white\", \"ticks\": \"\", \"title\": {\"standoff\": 15}, \"zerolinecolor\": \"white\", \"zerolinewidth\": 2}, \"yaxis\": {\"automargin\": true, \"gridcolor\": \"white\", \"linecolor\": \"white\", \"ticks\": \"\", \"title\": {\"standoff\": 15}, \"zerolinecolor\": \"white\", \"zerolinewidth\": 2}}}, \"xaxis\": {\"tickmode\": \"array\", \"ticktext\": [\"Ohne Ambiguous\", \"Gemixed\", \"Nur Ambigious\"], \"tickvals\": [0, 1, 2]}, \"yaxis\": {\"title\": {\"text\": \"Train Score Clfs\"}}},\n",
       "                        {\"responsive\": true}\n",
       "                    ).then(function(){\n",
       "                            \n",
       "var gd = document.getElementById('b5062c85-f975-4890-8ed3-05c83683f1b8');\n",
       "var x = new MutationObserver(function (mutations, observer) {{\n",
       "        var display = window.getComputedStyle(gd).display;\n",
       "        if (!display || display === 'none') {{\n",
       "            console.log([gd, 'removed!']);\n",
       "            Plotly.purge(gd);\n",
       "            observer.disconnect();\n",
       "        }}\n",
       "}});\n",
       "\n",
       "// Listen for the removal of the full notebook cells\n",
       "var notebookContainer = gd.closest('#notebook-container');\n",
       "if (notebookContainer) {{\n",
       "    x.observe(notebookContainer, {childList: true});\n",
       "}}\n",
       "\n",
       "// Listen for the clearing of the current output cell\n",
       "var outputEl = gd.closest('.output');\n",
       "if (outputEl) {{\n",
       "    x.observe(outputEl, {childList: true});\n",
       "}}\n",
       "\n",
       "                        })\n",
       "                };\n",
       "                });\n",
       "            </script>\n",
       "        </div>"
      ]
     },
     "metadata": {},
     "output_type": "display_data"
    }
   ],
   "source": [
    "import plotly.graph_objects as go\n",
    "import numpy as np\n",
    "\n",
    "\n",
    "data = []\n",
    "\n",
    "for i in range(df.shape[0]):\n",
    "    data.append(go.Scatter(x=[0,1,2], y=columns_train.iloc[i,:], mode=\"lines\", name=df.iloc[i,0]))\n",
    "\n",
    "fig = go.Figure(data=data)\n",
    "\n",
    "fig.update_layout(\n",
    "    xaxis = dict(\n",
    "        tickmode = 'array',\n",
    "        tickvals = [0, 1, 2],\n",
    "        ticktext = ['Ohne Ambiguous', 'Gemixed', 'Nur Ambigious']\n",
    "    )\n",
    ")\n",
    "\n",
    "fig.update_yaxes(title_text=\"Train Score Clfs\")\n",
    "\n",
    "fig.show()"
   ]
  },
  {
   "cell_type": "code",
   "execution_count": null,
   "metadata": {},
   "outputs": [],
   "source": []
  },
  {
   "cell_type": "code",
   "execution_count": null,
   "metadata": {},
   "outputs": [],
   "source": [
    "cluster_means = {\n",
    "    'Coke': {'mean': [36.35, -22.44], 'var': [216.68, 579.91]}, \n",
    "    'CokeZero': {'mean': [30.93, -18.14], 'var': [225.28, 453.22]}, \n",
    "    'Fanta': {'mean': [42.55, -26.63], 'var': [333.50, 717.19]}, \n",
    "    'Jever': {'mean': [-11.79, -19.81], 'var':[36.24, 135.73]}, \n",
    "    'Krombacher': {'mean': [-35.99, -38.99], 'var': [91.66, 67.63]}, \n",
    "    'MakoEnergy': {'mean': [17.13, 52.31], 'var': [263.52, 214.06]}, \n",
    "    'RedBull': {'mean': [-5.49, 38.34], 'var': [432.41, 568.26]}, \n",
    "    'RedBullZero': {'mean': [-4.21, 34.17], 'var': [171.04, 91.72]}, \n",
    "    'WaterBottle': {'mean':[-57.09, 11.24], 'var': [83.16, 162.32]}}"
   ]
  },
  {
   "cell_type": "code",
   "execution_count": null,
   "metadata": {},
   "outputs": [],
   "source": [
    "pd.set_option('display.max_rows', 500)\n",
    "pd.set_option('display.max_columns', 500)\n",
    "pd.set_option('display.width', 1000)\n",
    "\n",
    "ambiguous_evaluation = pd.read_csv('evaluation/dataset04_analysis_nearest_neighbors_1.csv', sep=';')\n",
    "ambiguous_evaluation"
   ]
  },
  {
   "cell_type": "code",
   "execution_count": null,
   "metadata": {},
   "outputs": [],
   "source": []
  }
 ],
 "metadata": {
  "kernelspec": {
   "display_name": "Python 3",
   "language": "python",
   "name": "python3"
  },
  "language_info": {
   "codemirror_mode": {
    "name": "ipython",
    "version": 3
   },
   "file_extension": ".py",
   "mimetype": "text/x-python",
   "name": "python",
   "nbconvert_exporter": "python",
   "pygments_lexer": "ipython3",
   "version": "3.6.4"
  }
 },
 "nbformat": 4,
 "nbformat_minor": 4
}
