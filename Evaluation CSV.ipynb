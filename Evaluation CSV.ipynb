{
 "cells": [
  {
   "cell_type": "code",
   "execution_count": 3,
   "metadata": {},
   "outputs": [],
   "source": [
    "import pandas as pd\n",
    "import os\n",
    "import matplotlib.pyplot as plt\n",
    "import numpy as np\n",
    "import matplotlib.mlab as mlab\n",
    "from shutil import copy2\n",
    "%matplotlib inline  "
   ]
  },
  {
   "cell_type": "code",
   "execution_count": 56,
   "metadata": {},
   "outputs": [
    {
     "name": "stdout",
     "output_type": "stream",
     "text": [
      "Klassen:  ['CokeZero' 'Coke' 'Fanta' 'WaterBottle' 'VitaBuz' 'RedBull' 'RedBullZero'\n",
      " 'MakoEnergy']\n",
      "Num Ambiguous:  8\n",
      "Num Overlap:  23\n",
      "Num Gesamt:  77\n"
     ]
    }
   ],
   "source": [
    "df02_properties = pd.read_csv('dataset02/properties.csv', sep=',')\n",
    "print(\"Klassen: \", df02_properties.object_class.unique())\n",
    "print(\"Num Ambiguous: \", df02_properties.ambiguous.sum())\n",
    "overlaps = (df02_properties.overlap[df02_properties.overlap > 0]).count()\n",
    "print(\"Num Overlap: \", overlaps)\n",
    "print(\"Num Gesamt: \", df02_properties.count()[0])"
   ]
  },
  {
   "cell_type": "code",
   "execution_count": 60,
   "metadata": {},
   "outputs": [
    {
     "name": "stdout",
     "output_type": "stream",
     "text": [
      "Klassen:  ['CokeZero' 'Coke' 'WaterBottle' 'RedBullZero' 'Fanta' 'RedBull'\n",
      " 'MakoEnergy']\n",
      "Num Ambiguous:  17\n",
      "Num Overlap:  51\n",
      "Num Gesamt:  150\n"
     ]
    }
   ],
   "source": [
    "df03_properties = pd.read_csv('dataset03/properties.csv', sep=',')\n",
    "print(\"Klassen: \", df03_properties.object_class.unique())\n",
    "print(\"Num Ambiguous: \", df03_properties.ambiguous.sum())\n",
    "overlaps = (df03_properties.overlap[df03_properties.overlap > 0]).count()\n",
    "print(\"Num Overlap: \", overlaps)\n",
    "print(\"Num Gesamt: \", df03_properties.count()[0])"
   ]
  },
  {
   "cell_type": "code",
   "execution_count": 73,
   "metadata": {},
   "outputs": [
    {
     "name": "stdout",
     "output_type": "stream",
     "text": [
      "Klassen:  ['Fanta' 'RedBullZero' 'CokeZero' 'Coke' 'Jever' 'MakoEnergy' 'RedBull'\n",
      " 'Krombacher' 'WaterBottle']\n",
      "\n",
      "Num Ambiguous:  34\n",
      "Num Overlap:  2086\n",
      "Num Gesamt:  2874\n",
      "\n",
      "Num Fanta:  372\n",
      "Num RedBullZero:  316\n",
      "Num CokeZero:  274\n",
      "Num Coke:  306\n",
      "Num Jever:  352\n",
      "Num MakoEnergy:  280\n",
      "Num RedBull:  300\n",
      "Num Krombacher:  308\n",
      "Num WaterBottle:  366\n"
     ]
    }
   ],
   "source": [
    "df04_properties = pd.read_csv('dataset04/properties.csv', sep=',')\n",
    "print(\"Klassen: \", df04_properties.object_class.unique())\n",
    "print()\n",
    "print(\"Num Ambiguous: \", df04_properties.ambiguous.sum())\n",
    "overlaps = (df04_properties.overlap[df04_properties.overlap > 0]).count()\n",
    "print(\"Num Overlap: \", overlaps)\n",
    "print(\"Num Gesamt: \", df04_properties.count()[0])\n",
    "print()\n",
    "print(\"Num Fanta: \", (df04_properties.object_class[df04_properties.object_class == 'Fanta']).count())\n",
    "print(\"Num RedBullZero: \", (df04_properties.object_class[df04_properties.object_class == 'RedBullZero']).count())\n",
    "print(\"Num CokeZero: \", (df04_properties.object_class[df04_properties.object_class == 'CokeZero']).count())\n",
    "print(\"Num Coke: \", (df04_properties.object_class[df04_properties.object_class == 'Coke']).count())\n",
    "print(\"Num Jever: \", (df04_properties.object_class[df04_properties.object_class == 'Jever']).count())\n",
    "print(\"Num MakoEnergy: \", (df04_properties.object_class[df04_properties.object_class == 'MakoEnergy']).count())\n",
    "print(\"Num RedBull: \", (df04_properties.object_class[df04_properties.object_class == 'RedBull']).count())\n",
    "print(\"Num Krombacher: \", (df04_properties.object_class[df04_properties.object_class == 'Krombacher']).count())\n",
    "print(\"Num WaterBottle: \", (df04_properties.object_class[df04_properties.object_class == 'WaterBottle']).count())"
   ]
  },
  {
   "cell_type": "code",
   "execution_count": 59,
   "metadata": {},
   "outputs": [],
   "source": [
    "src_path = 'dataset04/images/'\n",
    "dst_path = 'dataset04/ambiguous/'\n",
    "\n",
    "if not os.path.isdir(dst_path[:-1]):\n",
    "    os.mkdir(dst_path[:-1])\n",
    "\n",
    "idx = (df04_properties.index[df04_properties.ambiguous > 0])\n",
    "for i in idx:\n",
    "    copy2(os.path.join(src_path, str(i) + \".png\"), dst_path)"
   ]
  },
  {
   "cell_type": "code",
   "execution_count": 4,
   "metadata": {},
   "outputs": [
    {
     "data": {
      "text/html": [
       "<div>\n",
       "<style scoped>\n",
       "    .dataframe tbody tr th:only-of-type {\n",
       "        vertical-align: middle;\n",
       "    }\n",
       "\n",
       "    .dataframe tbody tr th {\n",
       "        vertical-align: top;\n",
       "    }\n",
       "\n",
       "    .dataframe thead th {\n",
       "        text-align: right;\n",
       "    }\n",
       "</style>\n",
       "<table border=\"1\" class=\"dataframe\">\n",
       "  <thead>\n",
       "    <tr style=\"text-align: right;\">\n",
       "      <th></th>\n",
       "      <th>Clf</th>\n",
       "      <th>1Train score Mix</th>\n",
       "      <th>1Test score Mix</th>\n",
       "      <th>2Train score ohneA</th>\n",
       "      <th>2Test score nurA</th>\n",
       "      <th>3Train score ohneOA</th>\n",
       "      <th>3Test score ohneOA</th>\n",
       "      <th>Parameter</th>\n",
       "    </tr>\n",
       "  </thead>\n",
       "  <tbody>\n",
       "    <tr>\n",
       "      <th>0</th>\n",
       "      <td>Nearest_Neighbors</td>\n",
       "      <td>1.0000</td>\n",
       "      <td>0.9926</td>\n",
       "      <td>1.0000</td>\n",
       "      <td>0.6470</td>\n",
       "      <td>1.0000</td>\n",
       "      <td>0.9870</td>\n",
       "      <td>{'algorithm': 'auto', 'n_neighbors': 5, 'weigh...</td>\n",
       "    </tr>\n",
       "    <tr>\n",
       "      <th>1</th>\n",
       "      <td>Linear_SVM</td>\n",
       "      <td>1.0000</td>\n",
       "      <td>0.9968</td>\n",
       "      <td>1.0000</td>\n",
       "      <td>0.1470</td>\n",
       "      <td>1.0000</td>\n",
       "      <td>0.9913</td>\n",
       "      <td>{'C': 1, 'kernel': 'linear', 'probability': Tr...</td>\n",
       "    </tr>\n",
       "    <tr>\n",
       "      <th>2</th>\n",
       "      <td>RBF_SVM</td>\n",
       "      <td>1.0000</td>\n",
       "      <td>0.9978</td>\n",
       "      <td>1.0000</td>\n",
       "      <td>0.1176</td>\n",
       "      <td>1.0000</td>\n",
       "      <td>0.9913</td>\n",
       "      <td>{'C': 10, 'kernel': 'rbf', 'probability': True...</td>\n",
       "    </tr>\n",
       "    <tr>\n",
       "      <th>3</th>\n",
       "      <td>Gaussian_Process</td>\n",
       "      <td>1.0000</td>\n",
       "      <td>0.1464</td>\n",
       "      <td>1.0000</td>\n",
       "      <td>0.0000</td>\n",
       "      <td>1.0000</td>\n",
       "      <td>0.1681</td>\n",
       "      <td>{'random_state': 17}</td>\n",
       "    </tr>\n",
       "    <tr>\n",
       "      <th>4</th>\n",
       "      <td>Decision_Tree</td>\n",
       "      <td>1.0000</td>\n",
       "      <td>0.8598</td>\n",
       "      <td>1.0000</td>\n",
       "      <td>0.0000</td>\n",
       "      <td>1.0000</td>\n",
       "      <td>0.8318</td>\n",
       "      <td>{'max_depth': None, 'min_samples_split': 2, 'r...</td>\n",
       "    </tr>\n",
       "    <tr>\n",
       "      <th>5</th>\n",
       "      <td>Random_Forest</td>\n",
       "      <td>1.0000</td>\n",
       "      <td>0.9747</td>\n",
       "      <td>1.0000</td>\n",
       "      <td>0.3235</td>\n",
       "      <td>1.0000</td>\n",
       "      <td>0.9870</td>\n",
       "      <td>{'max_depth': None, 'max_features': 1, 'n_esti...</td>\n",
       "    </tr>\n",
       "    <tr>\n",
       "      <th>6</th>\n",
       "      <td>Neural_Net</td>\n",
       "      <td>1.0000</td>\n",
       "      <td>0.9957</td>\n",
       "      <td>1.0000</td>\n",
       "      <td>0.0000</td>\n",
       "      <td>1.0000</td>\n",
       "      <td>0.9913</td>\n",
       "      <td>{'alpha': 0.0001, 'max_iter': 1000, 'random_st...</td>\n",
       "    </tr>\n",
       "    <tr>\n",
       "      <th>7</th>\n",
       "      <td>Naive_Bayes</td>\n",
       "      <td>0.9574</td>\n",
       "      <td>0.8967</td>\n",
       "      <td>1.0000</td>\n",
       "      <td>0.0588</td>\n",
       "      <td>1.0000</td>\n",
       "      <td>0.9568</td>\n",
       "      <td>{}</td>\n",
       "    </tr>\n",
       "    <tr>\n",
       "      <th>8</th>\n",
       "      <td>QDA</td>\n",
       "      <td>0.9776</td>\n",
       "      <td>0.9936</td>\n",
       "      <td>0.9831</td>\n",
       "      <td>0.2941</td>\n",
       "      <td>0.9518</td>\n",
       "      <td>0.9655</td>\n",
       "      <td>{'reg_param': 0.5, 'tol': 0.01}</td>\n",
       "    </tr>\n",
       "    <tr>\n",
       "      <th>9</th>\n",
       "      <td>Glvq</td>\n",
       "      <td>0.8784</td>\n",
       "      <td>0.8472</td>\n",
       "      <td>0.9365</td>\n",
       "      <td>0.4705</td>\n",
       "      <td>0.9018</td>\n",
       "      <td>0.8448</td>\n",
       "      <td>(5, 5, 1)</td>\n",
       "    </tr>\n",
       "  </tbody>\n",
       "</table>\n",
       "</div>"
      ],
      "text/plain": [
       "                 Clf  1Train score Mix  1Test score Mix  2Train score ohneA  \\\n",
       "0  Nearest_Neighbors            1.0000           0.9926              1.0000   \n",
       "1         Linear_SVM            1.0000           0.9968              1.0000   \n",
       "2            RBF_SVM            1.0000           0.9978              1.0000   \n",
       "3   Gaussian_Process            1.0000           0.1464              1.0000   \n",
       "4      Decision_Tree            1.0000           0.8598              1.0000   \n",
       "5      Random_Forest            1.0000           0.9747              1.0000   \n",
       "6         Neural_Net            1.0000           0.9957              1.0000   \n",
       "7        Naive_Bayes            0.9574           0.8967              1.0000   \n",
       "8                QDA            0.9776           0.9936              0.9831   \n",
       "9               Glvq            0.8784           0.8472              0.9365   \n",
       "\n",
       "   2Test score nurA  3Train score ohneOA  3Test score ohneOA  \\\n",
       "0            0.6470               1.0000              0.9870   \n",
       "1            0.1470               1.0000              0.9913   \n",
       "2            0.1176               1.0000              0.9913   \n",
       "3            0.0000               1.0000              0.1681   \n",
       "4            0.0000               1.0000              0.8318   \n",
       "5            0.3235               1.0000              0.9870   \n",
       "6            0.0000               1.0000              0.9913   \n",
       "7            0.0588               1.0000              0.9568   \n",
       "8            0.2941               0.9518              0.9655   \n",
       "9            0.4705               0.9018              0.8448   \n",
       "\n",
       "                                           Parameter  \n",
       "0  {'algorithm': 'auto', 'n_neighbors': 5, 'weigh...  \n",
       "1  {'C': 1, 'kernel': 'linear', 'probability': Tr...  \n",
       "2  {'C': 10, 'kernel': 'rbf', 'probability': True...  \n",
       "3                               {'random_state': 17}  \n",
       "4  {'max_depth': None, 'min_samples_split': 2, 'r...  \n",
       "5  {'max_depth': None, 'max_features': 1, 'n_esti...  \n",
       "6  {'alpha': 0.0001, 'max_iter': 1000, 'random_st...  \n",
       "7                                                 {}  \n",
       "8                    {'reg_param': 0.5, 'tol': 0.01}  \n",
       "9                                          (5, 5, 1)  "
      ]
     },
     "execution_count": 4,
     "metadata": {},
     "output_type": "execute_result"
    }
   ],
   "source": [
    "df04 = pd.read_csv('evaluation/clf_dataset04.csv', sep=';')\n",
    "df04"
   ]
  },
  {
   "cell_type": "code",
   "execution_count": 51,
   "metadata": {},
   "outputs": [
    {
     "data": {
      "text/html": [
       "<div>\n",
       "<style scoped>\n",
       "    .dataframe tbody tr th:only-of-type {\n",
       "        vertical-align: middle;\n",
       "    }\n",
       "\n",
       "    .dataframe tbody tr th {\n",
       "        vertical-align: top;\n",
       "    }\n",
       "\n",
       "    .dataframe thead th {\n",
       "        text-align: right;\n",
       "    }\n",
       "</style>\n",
       "<table border=\"1\" class=\"dataframe\">\n",
       "  <thead>\n",
       "    <tr style=\"text-align: right;\">\n",
       "      <th></th>\n",
       "      <th>3Test score ohneOA</th>\n",
       "      <th>1Test score Mix</th>\n",
       "      <th>2Test score nurA</th>\n",
       "    </tr>\n",
       "  </thead>\n",
       "  <tbody>\n",
       "    <tr>\n",
       "      <th>0</th>\n",
       "      <td>0.9870</td>\n",
       "      <td>0.9926</td>\n",
       "      <td>0.6470</td>\n",
       "    </tr>\n",
       "    <tr>\n",
       "      <th>1</th>\n",
       "      <td>0.9913</td>\n",
       "      <td>0.9968</td>\n",
       "      <td>0.1470</td>\n",
       "    </tr>\n",
       "    <tr>\n",
       "      <th>2</th>\n",
       "      <td>0.9913</td>\n",
       "      <td>0.9978</td>\n",
       "      <td>0.1176</td>\n",
       "    </tr>\n",
       "    <tr>\n",
       "      <th>3</th>\n",
       "      <td>0.1681</td>\n",
       "      <td>0.1464</td>\n",
       "      <td>0.0000</td>\n",
       "    </tr>\n",
       "    <tr>\n",
       "      <th>4</th>\n",
       "      <td>0.8318</td>\n",
       "      <td>0.8598</td>\n",
       "      <td>0.0000</td>\n",
       "    </tr>\n",
       "    <tr>\n",
       "      <th>5</th>\n",
       "      <td>0.9870</td>\n",
       "      <td>0.9747</td>\n",
       "      <td>0.3235</td>\n",
       "    </tr>\n",
       "    <tr>\n",
       "      <th>6</th>\n",
       "      <td>0.9913</td>\n",
       "      <td>0.9957</td>\n",
       "      <td>0.0000</td>\n",
       "    </tr>\n",
       "    <tr>\n",
       "      <th>7</th>\n",
       "      <td>0.9568</td>\n",
       "      <td>0.8967</td>\n",
       "      <td>0.0588</td>\n",
       "    </tr>\n",
       "    <tr>\n",
       "      <th>8</th>\n",
       "      <td>0.9655</td>\n",
       "      <td>0.9936</td>\n",
       "      <td>0.2941</td>\n",
       "    </tr>\n",
       "    <tr>\n",
       "      <th>9</th>\n",
       "      <td>0.8448</td>\n",
       "      <td>0.8472</td>\n",
       "      <td>0.4705</td>\n",
       "    </tr>\n",
       "  </tbody>\n",
       "</table>\n",
       "</div>"
      ],
      "text/plain": [
       "   3Test score ohneOA  1Test score Mix  2Test score nurA\n",
       "0              0.9870           0.9926            0.6470\n",
       "1              0.9913           0.9968            0.1470\n",
       "2              0.9913           0.9978            0.1176\n",
       "3              0.1681           0.1464            0.0000\n",
       "4              0.8318           0.8598            0.0000\n",
       "5              0.9870           0.9747            0.3235\n",
       "6              0.9913           0.9957            0.0000\n",
       "7              0.9568           0.8967            0.0588\n",
       "8              0.9655           0.9936            0.2941\n",
       "9              0.8448           0.8472            0.4705"
      ]
     },
     "execution_count": 51,
     "metadata": {},
     "output_type": "execute_result"
    }
   ],
   "source": [
    "columns_test = df04[['3Test score ohneOA', '1Test score Mix', '2Test score nurA']]\n",
    "columns_train = df04[['3Train score ohneOA', '1Train score Mix', '2Train score ohneA']]\n",
    "columns_test"
   ]
  },
  {
   "cell_type": "code",
   "execution_count": 52,
   "metadata": {},
   "outputs": [
    {
     "data": {
      "application/vnd.plotly.v1+json": {
       "config": {
        "plotlyServerURL": "https://plot.ly"
       },
       "data": [
        {
         "mode": "lines",
         "name": "Nearest_Neighbors",
         "type": "scatter",
         "x": [
          0,
          1,
          2
         ],
         "y": [
          0.987,
          0.9926,
          0.647
         ]
        },
        {
         "mode": "lines",
         "name": "Linear_SVM",
         "type": "scatter",
         "x": [
          0,
          1,
          2
         ],
         "y": [
          0.9913,
          0.9968,
          0.147
         ]
        },
        {
         "mode": "lines",
         "name": "RBF_SVM",
         "type": "scatter",
         "x": [
          0,
          1,
          2
         ],
         "y": [
          0.9913,
          0.9978,
          0.1176
         ]
        },
        {
         "mode": "lines",
         "name": "Gaussian_Process",
         "type": "scatter",
         "x": [
          0,
          1,
          2
         ],
         "y": [
          0.1681,
          0.1464,
          0
         ]
        },
        {
         "mode": "lines",
         "name": "Decision_Tree",
         "type": "scatter",
         "x": [
          0,
          1,
          2
         ],
         "y": [
          0.8318,
          0.8598,
          0
         ]
        },
        {
         "mode": "lines",
         "name": "Random_Forest",
         "type": "scatter",
         "x": [
          0,
          1,
          2
         ],
         "y": [
          0.987,
          0.9747,
          0.3235
         ]
        },
        {
         "mode": "lines",
         "name": "Neural_Net",
         "type": "scatter",
         "x": [
          0,
          1,
          2
         ],
         "y": [
          0.9913,
          0.9957,
          0
         ]
        },
        {
         "mode": "lines",
         "name": "Naive_Bayes",
         "type": "scatter",
         "x": [
          0,
          1,
          2
         ],
         "y": [
          0.9568,
          0.8967,
          0.0588
         ]
        },
        {
         "mode": "lines",
         "name": "QDA",
         "type": "scatter",
         "x": [
          0,
          1,
          2
         ],
         "y": [
          0.9655,
          0.9936,
          0.2941
         ]
        },
        {
         "mode": "lines",
         "name": "Glvq",
         "type": "scatter",
         "x": [
          0,
          1,
          2
         ],
         "y": [
          0.8448,
          0.8472,
          0.4705
         ]
        }
       ],
       "layout": {
        "template": {
         "data": {
          "bar": [
           {
            "error_x": {
             "color": "#2a3f5f"
            },
            "error_y": {
             "color": "#2a3f5f"
            },
            "marker": {
             "line": {
              "color": "#E5ECF6",
              "width": 0.5
             }
            },
            "type": "bar"
           }
          ],
          "barpolar": [
           {
            "marker": {
             "line": {
              "color": "#E5ECF6",
              "width": 0.5
             }
            },
            "type": "barpolar"
           }
          ],
          "carpet": [
           {
            "aaxis": {
             "endlinecolor": "#2a3f5f",
             "gridcolor": "white",
             "linecolor": "white",
             "minorgridcolor": "white",
             "startlinecolor": "#2a3f5f"
            },
            "baxis": {
             "endlinecolor": "#2a3f5f",
             "gridcolor": "white",
             "linecolor": "white",
             "minorgridcolor": "white",
             "startlinecolor": "#2a3f5f"
            },
            "type": "carpet"
           }
          ],
          "choropleth": [
           {
            "colorbar": {
             "outlinewidth": 0,
             "ticks": ""
            },
            "type": "choropleth"
           }
          ],
          "contour": [
           {
            "colorbar": {
             "outlinewidth": 0,
             "ticks": ""
            },
            "colorscale": [
             [
              0,
              "#0d0887"
             ],
             [
              0.1111111111111111,
              "#46039f"
             ],
             [
              0.2222222222222222,
              "#7201a8"
             ],
             [
              0.3333333333333333,
              "#9c179e"
             ],
             [
              0.4444444444444444,
              "#bd3786"
             ],
             [
              0.5555555555555556,
              "#d8576b"
             ],
             [
              0.6666666666666666,
              "#ed7953"
             ],
             [
              0.7777777777777778,
              "#fb9f3a"
             ],
             [
              0.8888888888888888,
              "#fdca26"
             ],
             [
              1,
              "#f0f921"
             ]
            ],
            "type": "contour"
           }
          ],
          "contourcarpet": [
           {
            "colorbar": {
             "outlinewidth": 0,
             "ticks": ""
            },
            "type": "contourcarpet"
           }
          ],
          "heatmap": [
           {
            "colorbar": {
             "outlinewidth": 0,
             "ticks": ""
            },
            "colorscale": [
             [
              0,
              "#0d0887"
             ],
             [
              0.1111111111111111,
              "#46039f"
             ],
             [
              0.2222222222222222,
              "#7201a8"
             ],
             [
              0.3333333333333333,
              "#9c179e"
             ],
             [
              0.4444444444444444,
              "#bd3786"
             ],
             [
              0.5555555555555556,
              "#d8576b"
             ],
             [
              0.6666666666666666,
              "#ed7953"
             ],
             [
              0.7777777777777778,
              "#fb9f3a"
             ],
             [
              0.8888888888888888,
              "#fdca26"
             ],
             [
              1,
              "#f0f921"
             ]
            ],
            "type": "heatmap"
           }
          ],
          "heatmapgl": [
           {
            "colorbar": {
             "outlinewidth": 0,
             "ticks": ""
            },
            "colorscale": [
             [
              0,
              "#0d0887"
             ],
             [
              0.1111111111111111,
              "#46039f"
             ],
             [
              0.2222222222222222,
              "#7201a8"
             ],
             [
              0.3333333333333333,
              "#9c179e"
             ],
             [
              0.4444444444444444,
              "#bd3786"
             ],
             [
              0.5555555555555556,
              "#d8576b"
             ],
             [
              0.6666666666666666,
              "#ed7953"
             ],
             [
              0.7777777777777778,
              "#fb9f3a"
             ],
             [
              0.8888888888888888,
              "#fdca26"
             ],
             [
              1,
              "#f0f921"
             ]
            ],
            "type": "heatmapgl"
           }
          ],
          "histogram": [
           {
            "marker": {
             "colorbar": {
              "outlinewidth": 0,
              "ticks": ""
             }
            },
            "type": "histogram"
           }
          ],
          "histogram2d": [
           {
            "colorbar": {
             "outlinewidth": 0,
             "ticks": ""
            },
            "colorscale": [
             [
              0,
              "#0d0887"
             ],
             [
              0.1111111111111111,
              "#46039f"
             ],
             [
              0.2222222222222222,
              "#7201a8"
             ],
             [
              0.3333333333333333,
              "#9c179e"
             ],
             [
              0.4444444444444444,
              "#bd3786"
             ],
             [
              0.5555555555555556,
              "#d8576b"
             ],
             [
              0.6666666666666666,
              "#ed7953"
             ],
             [
              0.7777777777777778,
              "#fb9f3a"
             ],
             [
              0.8888888888888888,
              "#fdca26"
             ],
             [
              1,
              "#f0f921"
             ]
            ],
            "type": "histogram2d"
           }
          ],
          "histogram2dcontour": [
           {
            "colorbar": {
             "outlinewidth": 0,
             "ticks": ""
            },
            "colorscale": [
             [
              0,
              "#0d0887"
             ],
             [
              0.1111111111111111,
              "#46039f"
             ],
             [
              0.2222222222222222,
              "#7201a8"
             ],
             [
              0.3333333333333333,
              "#9c179e"
             ],
             [
              0.4444444444444444,
              "#bd3786"
             ],
             [
              0.5555555555555556,
              "#d8576b"
             ],
             [
              0.6666666666666666,
              "#ed7953"
             ],
             [
              0.7777777777777778,
              "#fb9f3a"
             ],
             [
              0.8888888888888888,
              "#fdca26"
             ],
             [
              1,
              "#f0f921"
             ]
            ],
            "type": "histogram2dcontour"
           }
          ],
          "mesh3d": [
           {
            "colorbar": {
             "outlinewidth": 0,
             "ticks": ""
            },
            "type": "mesh3d"
           }
          ],
          "parcoords": [
           {
            "line": {
             "colorbar": {
              "outlinewidth": 0,
              "ticks": ""
             }
            },
            "type": "parcoords"
           }
          ],
          "pie": [
           {
            "automargin": true,
            "type": "pie"
           }
          ],
          "scatter": [
           {
            "marker": {
             "colorbar": {
              "outlinewidth": 0,
              "ticks": ""
             }
            },
            "type": "scatter"
           }
          ],
          "scatter3d": [
           {
            "line": {
             "colorbar": {
              "outlinewidth": 0,
              "ticks": ""
             }
            },
            "marker": {
             "colorbar": {
              "outlinewidth": 0,
              "ticks": ""
             }
            },
            "type": "scatter3d"
           }
          ],
          "scattercarpet": [
           {
            "marker": {
             "colorbar": {
              "outlinewidth": 0,
              "ticks": ""
             }
            },
            "type": "scattercarpet"
           }
          ],
          "scattergeo": [
           {
            "marker": {
             "colorbar": {
              "outlinewidth": 0,
              "ticks": ""
             }
            },
            "type": "scattergeo"
           }
          ],
          "scattergl": [
           {
            "marker": {
             "colorbar": {
              "outlinewidth": 0,
              "ticks": ""
             }
            },
            "type": "scattergl"
           }
          ],
          "scattermapbox": [
           {
            "marker": {
             "colorbar": {
              "outlinewidth": 0,
              "ticks": ""
             }
            },
            "type": "scattermapbox"
           }
          ],
          "scatterpolar": [
           {
            "marker": {
             "colorbar": {
              "outlinewidth": 0,
              "ticks": ""
             }
            },
            "type": "scatterpolar"
           }
          ],
          "scatterpolargl": [
           {
            "marker": {
             "colorbar": {
              "outlinewidth": 0,
              "ticks": ""
             }
            },
            "type": "scatterpolargl"
           }
          ],
          "scatterternary": [
           {
            "marker": {
             "colorbar": {
              "outlinewidth": 0,
              "ticks": ""
             }
            },
            "type": "scatterternary"
           }
          ],
          "surface": [
           {
            "colorbar": {
             "outlinewidth": 0,
             "ticks": ""
            },
            "colorscale": [
             [
              0,
              "#0d0887"
             ],
             [
              0.1111111111111111,
              "#46039f"
             ],
             [
              0.2222222222222222,
              "#7201a8"
             ],
             [
              0.3333333333333333,
              "#9c179e"
             ],
             [
              0.4444444444444444,
              "#bd3786"
             ],
             [
              0.5555555555555556,
              "#d8576b"
             ],
             [
              0.6666666666666666,
              "#ed7953"
             ],
             [
              0.7777777777777778,
              "#fb9f3a"
             ],
             [
              0.8888888888888888,
              "#fdca26"
             ],
             [
              1,
              "#f0f921"
             ]
            ],
            "type": "surface"
           }
          ],
          "table": [
           {
            "cells": {
             "fill": {
              "color": "#EBF0F8"
             },
             "line": {
              "color": "white"
             }
            },
            "header": {
             "fill": {
              "color": "#C8D4E3"
             },
             "line": {
              "color": "white"
             }
            },
            "type": "table"
           }
          ]
         },
         "layout": {
          "annotationdefaults": {
           "arrowcolor": "#2a3f5f",
           "arrowhead": 0,
           "arrowwidth": 1
          },
          "coloraxis": {
           "colorbar": {
            "outlinewidth": 0,
            "ticks": ""
           }
          },
          "colorscale": {
           "diverging": [
            [
             0,
             "#8e0152"
            ],
            [
             0.1,
             "#c51b7d"
            ],
            [
             0.2,
             "#de77ae"
            ],
            [
             0.3,
             "#f1b6da"
            ],
            [
             0.4,
             "#fde0ef"
            ],
            [
             0.5,
             "#f7f7f7"
            ],
            [
             0.6,
             "#e6f5d0"
            ],
            [
             0.7,
             "#b8e186"
            ],
            [
             0.8,
             "#7fbc41"
            ],
            [
             0.9,
             "#4d9221"
            ],
            [
             1,
             "#276419"
            ]
           ],
           "sequential": [
            [
             0,
             "#0d0887"
            ],
            [
             0.1111111111111111,
             "#46039f"
            ],
            [
             0.2222222222222222,
             "#7201a8"
            ],
            [
             0.3333333333333333,
             "#9c179e"
            ],
            [
             0.4444444444444444,
             "#bd3786"
            ],
            [
             0.5555555555555556,
             "#d8576b"
            ],
            [
             0.6666666666666666,
             "#ed7953"
            ],
            [
             0.7777777777777778,
             "#fb9f3a"
            ],
            [
             0.8888888888888888,
             "#fdca26"
            ],
            [
             1,
             "#f0f921"
            ]
           ],
           "sequentialminus": [
            [
             0,
             "#0d0887"
            ],
            [
             0.1111111111111111,
             "#46039f"
            ],
            [
             0.2222222222222222,
             "#7201a8"
            ],
            [
             0.3333333333333333,
             "#9c179e"
            ],
            [
             0.4444444444444444,
             "#bd3786"
            ],
            [
             0.5555555555555556,
             "#d8576b"
            ],
            [
             0.6666666666666666,
             "#ed7953"
            ],
            [
             0.7777777777777778,
             "#fb9f3a"
            ],
            [
             0.8888888888888888,
             "#fdca26"
            ],
            [
             1,
             "#f0f921"
            ]
           ]
          },
          "colorway": [
           "#636efa",
           "#EF553B",
           "#00cc96",
           "#ab63fa",
           "#FFA15A",
           "#19d3f3",
           "#FF6692",
           "#B6E880",
           "#FF97FF",
           "#FECB52"
          ],
          "font": {
           "color": "#2a3f5f"
          },
          "geo": {
           "bgcolor": "white",
           "lakecolor": "white",
           "landcolor": "#E5ECF6",
           "showlakes": true,
           "showland": true,
           "subunitcolor": "white"
          },
          "hoverlabel": {
           "align": "left"
          },
          "hovermode": "closest",
          "mapbox": {
           "style": "light"
          },
          "paper_bgcolor": "white",
          "plot_bgcolor": "#E5ECF6",
          "polar": {
           "angularaxis": {
            "gridcolor": "white",
            "linecolor": "white",
            "ticks": ""
           },
           "bgcolor": "#E5ECF6",
           "radialaxis": {
            "gridcolor": "white",
            "linecolor": "white",
            "ticks": ""
           }
          },
          "scene": {
           "xaxis": {
            "backgroundcolor": "#E5ECF6",
            "gridcolor": "white",
            "gridwidth": 2,
            "linecolor": "white",
            "showbackground": true,
            "ticks": "",
            "zerolinecolor": "white"
           },
           "yaxis": {
            "backgroundcolor": "#E5ECF6",
            "gridcolor": "white",
            "gridwidth": 2,
            "linecolor": "white",
            "showbackground": true,
            "ticks": "",
            "zerolinecolor": "white"
           },
           "zaxis": {
            "backgroundcolor": "#E5ECF6",
            "gridcolor": "white",
            "gridwidth": 2,
            "linecolor": "white",
            "showbackground": true,
            "ticks": "",
            "zerolinecolor": "white"
           }
          },
          "shapedefaults": {
           "line": {
            "color": "#2a3f5f"
           }
          },
          "ternary": {
           "aaxis": {
            "gridcolor": "white",
            "linecolor": "white",
            "ticks": ""
           },
           "baxis": {
            "gridcolor": "white",
            "linecolor": "white",
            "ticks": ""
           },
           "bgcolor": "#E5ECF6",
           "caxis": {
            "gridcolor": "white",
            "linecolor": "white",
            "ticks": ""
           }
          },
          "title": {
           "x": 0.05
          },
          "xaxis": {
           "automargin": true,
           "gridcolor": "white",
           "linecolor": "white",
           "ticks": "",
           "title": {
            "standoff": 15
           },
           "zerolinecolor": "white",
           "zerolinewidth": 2
          },
          "yaxis": {
           "automargin": true,
           "gridcolor": "white",
           "linecolor": "white",
           "ticks": "",
           "title": {
            "standoff": 15
           },
           "zerolinecolor": "white",
           "zerolinewidth": 2
          }
         }
        },
        "xaxis": {
         "tickmode": "array",
         "ticktext": [
          "mix",
          "onlyOA",
          "ohne"
         ],
         "tickvals": [
          0,
          1,
          2
         ]
        },
        "yaxis": {
         "title": {
          "text": "XY"
         }
        }
       }
      },
      "text/html": [
       "<div>\n",
       "        \n",
       "        \n",
       "            <div id=\"cfc390cc-5043-433a-a6c3-672e3970afe9\" class=\"plotly-graph-div\" style=\"height:525px; width:100%;\"></div>\n",
       "            <script type=\"text/javascript\">\n",
       "                require([\"plotly\"], function(Plotly) {\n",
       "                    window.PLOTLYENV=window.PLOTLYENV || {};\n",
       "                    \n",
       "                if (document.getElementById(\"cfc390cc-5043-433a-a6c3-672e3970afe9\")) {\n",
       "                    Plotly.newPlot(\n",
       "                        'cfc390cc-5043-433a-a6c3-672e3970afe9',\n",
       "                        [{\"mode\": \"lines\", \"name\": \"Nearest_Neighbors\", \"type\": \"scatter\", \"x\": [0, 1, 2], \"y\": [0.987, 0.9926, 0.647]}, {\"mode\": \"lines\", \"name\": \"Linear_SVM\", \"type\": \"scatter\", \"x\": [0, 1, 2], \"y\": [0.9913, 0.9968, 0.147]}, {\"mode\": \"lines\", \"name\": \"RBF_SVM\", \"type\": \"scatter\", \"x\": [0, 1, 2], \"y\": [0.9913, 0.9978, 0.1176]}, {\"mode\": \"lines\", \"name\": \"Gaussian_Process\", \"type\": \"scatter\", \"x\": [0, 1, 2], \"y\": [0.1681, 0.1464, 0.0]}, {\"mode\": \"lines\", \"name\": \"Decision_Tree\", \"type\": \"scatter\", \"x\": [0, 1, 2], \"y\": [0.8318, 0.8598, 0.0]}, {\"mode\": \"lines\", \"name\": \"Random_Forest\", \"type\": \"scatter\", \"x\": [0, 1, 2], \"y\": [0.987, 0.9747, 0.3235]}, {\"mode\": \"lines\", \"name\": \"Neural_Net\", \"type\": \"scatter\", \"x\": [0, 1, 2], \"y\": [0.9913, 0.9957, 0.0]}, {\"mode\": \"lines\", \"name\": \"Naive_Bayes\", \"type\": \"scatter\", \"x\": [0, 1, 2], \"y\": [0.9568, 0.8967, 0.0588]}, {\"mode\": \"lines\", \"name\": \"QDA\", \"type\": \"scatter\", \"x\": [0, 1, 2], \"y\": [0.9655, 0.9936, 0.2941]}, {\"mode\": \"lines\", \"name\": \"Glvq\", \"type\": \"scatter\", \"x\": [0, 1, 2], \"y\": [0.8448, 0.8472, 0.4705]}],\n",
       "                        {\"template\": {\"data\": {\"bar\": [{\"error_x\": {\"color\": \"#2a3f5f\"}, \"error_y\": {\"color\": \"#2a3f5f\"}, \"marker\": {\"line\": {\"color\": \"#E5ECF6\", \"width\": 0.5}}, \"type\": \"bar\"}], \"barpolar\": [{\"marker\": {\"line\": {\"color\": \"#E5ECF6\", \"width\": 0.5}}, \"type\": \"barpolar\"}], \"carpet\": [{\"aaxis\": {\"endlinecolor\": \"#2a3f5f\", \"gridcolor\": \"white\", \"linecolor\": \"white\", \"minorgridcolor\": \"white\", \"startlinecolor\": \"#2a3f5f\"}, \"baxis\": {\"endlinecolor\": \"#2a3f5f\", \"gridcolor\": \"white\", \"linecolor\": \"white\", \"minorgridcolor\": \"white\", \"startlinecolor\": \"#2a3f5f\"}, \"type\": \"carpet\"}], \"choropleth\": [{\"colorbar\": {\"outlinewidth\": 0, \"ticks\": \"\"}, \"type\": \"choropleth\"}], \"contour\": [{\"colorbar\": {\"outlinewidth\": 0, \"ticks\": \"\"}, \"colorscale\": [[0.0, \"#0d0887\"], [0.1111111111111111, \"#46039f\"], [0.2222222222222222, \"#7201a8\"], [0.3333333333333333, \"#9c179e\"], [0.4444444444444444, \"#bd3786\"], [0.5555555555555556, \"#d8576b\"], [0.6666666666666666, \"#ed7953\"], [0.7777777777777778, \"#fb9f3a\"], [0.8888888888888888, \"#fdca26\"], [1.0, \"#f0f921\"]], \"type\": \"contour\"}], \"contourcarpet\": [{\"colorbar\": {\"outlinewidth\": 0, \"ticks\": \"\"}, \"type\": \"contourcarpet\"}], \"heatmap\": [{\"colorbar\": {\"outlinewidth\": 0, \"ticks\": \"\"}, \"colorscale\": [[0.0, \"#0d0887\"], [0.1111111111111111, \"#46039f\"], [0.2222222222222222, \"#7201a8\"], [0.3333333333333333, \"#9c179e\"], [0.4444444444444444, \"#bd3786\"], [0.5555555555555556, \"#d8576b\"], [0.6666666666666666, \"#ed7953\"], [0.7777777777777778, \"#fb9f3a\"], [0.8888888888888888, \"#fdca26\"], [1.0, \"#f0f921\"]], \"type\": \"heatmap\"}], \"heatmapgl\": [{\"colorbar\": {\"outlinewidth\": 0, \"ticks\": \"\"}, \"colorscale\": [[0.0, \"#0d0887\"], [0.1111111111111111, \"#46039f\"], [0.2222222222222222, \"#7201a8\"], [0.3333333333333333, \"#9c179e\"], [0.4444444444444444, \"#bd3786\"], [0.5555555555555556, \"#d8576b\"], [0.6666666666666666, \"#ed7953\"], [0.7777777777777778, \"#fb9f3a\"], [0.8888888888888888, \"#fdca26\"], [1.0, \"#f0f921\"]], \"type\": \"heatmapgl\"}], \"histogram\": [{\"marker\": {\"colorbar\": {\"outlinewidth\": 0, \"ticks\": \"\"}}, \"type\": \"histogram\"}], \"histogram2d\": [{\"colorbar\": {\"outlinewidth\": 0, \"ticks\": \"\"}, \"colorscale\": [[0.0, \"#0d0887\"], [0.1111111111111111, \"#46039f\"], [0.2222222222222222, \"#7201a8\"], [0.3333333333333333, \"#9c179e\"], [0.4444444444444444, \"#bd3786\"], [0.5555555555555556, \"#d8576b\"], [0.6666666666666666, \"#ed7953\"], [0.7777777777777778, \"#fb9f3a\"], [0.8888888888888888, \"#fdca26\"], [1.0, \"#f0f921\"]], \"type\": \"histogram2d\"}], \"histogram2dcontour\": [{\"colorbar\": {\"outlinewidth\": 0, \"ticks\": \"\"}, \"colorscale\": [[0.0, \"#0d0887\"], [0.1111111111111111, \"#46039f\"], [0.2222222222222222, \"#7201a8\"], [0.3333333333333333, \"#9c179e\"], [0.4444444444444444, \"#bd3786\"], [0.5555555555555556, \"#d8576b\"], [0.6666666666666666, \"#ed7953\"], [0.7777777777777778, \"#fb9f3a\"], [0.8888888888888888, \"#fdca26\"], [1.0, \"#f0f921\"]], \"type\": \"histogram2dcontour\"}], \"mesh3d\": [{\"colorbar\": {\"outlinewidth\": 0, \"ticks\": \"\"}, \"type\": \"mesh3d\"}], \"parcoords\": [{\"line\": {\"colorbar\": {\"outlinewidth\": 0, \"ticks\": \"\"}}, \"type\": \"parcoords\"}], \"pie\": [{\"automargin\": true, \"type\": \"pie\"}], \"scatter\": [{\"marker\": {\"colorbar\": {\"outlinewidth\": 0, \"ticks\": \"\"}}, \"type\": \"scatter\"}], \"scatter3d\": [{\"line\": {\"colorbar\": {\"outlinewidth\": 0, \"ticks\": \"\"}}, \"marker\": {\"colorbar\": {\"outlinewidth\": 0, \"ticks\": \"\"}}, \"type\": \"scatter3d\"}], \"scattercarpet\": [{\"marker\": {\"colorbar\": {\"outlinewidth\": 0, \"ticks\": \"\"}}, \"type\": \"scattercarpet\"}], \"scattergeo\": [{\"marker\": {\"colorbar\": {\"outlinewidth\": 0, \"ticks\": \"\"}}, \"type\": \"scattergeo\"}], \"scattergl\": [{\"marker\": {\"colorbar\": {\"outlinewidth\": 0, \"ticks\": \"\"}}, \"type\": \"scattergl\"}], \"scattermapbox\": [{\"marker\": {\"colorbar\": {\"outlinewidth\": 0, \"ticks\": \"\"}}, \"type\": \"scattermapbox\"}], \"scatterpolar\": [{\"marker\": {\"colorbar\": {\"outlinewidth\": 0, \"ticks\": \"\"}}, \"type\": \"scatterpolar\"}], \"scatterpolargl\": [{\"marker\": {\"colorbar\": {\"outlinewidth\": 0, \"ticks\": \"\"}}, \"type\": \"scatterpolargl\"}], \"scatterternary\": [{\"marker\": {\"colorbar\": {\"outlinewidth\": 0, \"ticks\": \"\"}}, \"type\": \"scatterternary\"}], \"surface\": [{\"colorbar\": {\"outlinewidth\": 0, \"ticks\": \"\"}, \"colorscale\": [[0.0, \"#0d0887\"], [0.1111111111111111, \"#46039f\"], [0.2222222222222222, \"#7201a8\"], [0.3333333333333333, \"#9c179e\"], [0.4444444444444444, \"#bd3786\"], [0.5555555555555556, \"#d8576b\"], [0.6666666666666666, \"#ed7953\"], [0.7777777777777778, \"#fb9f3a\"], [0.8888888888888888, \"#fdca26\"], [1.0, \"#f0f921\"]], \"type\": \"surface\"}], \"table\": [{\"cells\": {\"fill\": {\"color\": \"#EBF0F8\"}, \"line\": {\"color\": \"white\"}}, \"header\": {\"fill\": {\"color\": \"#C8D4E3\"}, \"line\": {\"color\": \"white\"}}, \"type\": \"table\"}]}, \"layout\": {\"annotationdefaults\": {\"arrowcolor\": \"#2a3f5f\", \"arrowhead\": 0, \"arrowwidth\": 1}, \"coloraxis\": {\"colorbar\": {\"outlinewidth\": 0, \"ticks\": \"\"}}, \"colorscale\": {\"diverging\": [[0, \"#8e0152\"], [0.1, \"#c51b7d\"], [0.2, \"#de77ae\"], [0.3, \"#f1b6da\"], [0.4, \"#fde0ef\"], [0.5, \"#f7f7f7\"], [0.6, \"#e6f5d0\"], [0.7, \"#b8e186\"], [0.8, \"#7fbc41\"], [0.9, \"#4d9221\"], [1, \"#276419\"]], \"sequential\": [[0.0, \"#0d0887\"], [0.1111111111111111, \"#46039f\"], [0.2222222222222222, \"#7201a8\"], [0.3333333333333333, \"#9c179e\"], [0.4444444444444444, \"#bd3786\"], [0.5555555555555556, \"#d8576b\"], [0.6666666666666666, \"#ed7953\"], [0.7777777777777778, \"#fb9f3a\"], [0.8888888888888888, \"#fdca26\"], [1.0, \"#f0f921\"]], \"sequentialminus\": [[0.0, \"#0d0887\"], [0.1111111111111111, \"#46039f\"], [0.2222222222222222, \"#7201a8\"], [0.3333333333333333, \"#9c179e\"], [0.4444444444444444, \"#bd3786\"], [0.5555555555555556, \"#d8576b\"], [0.6666666666666666, \"#ed7953\"], [0.7777777777777778, \"#fb9f3a\"], [0.8888888888888888, \"#fdca26\"], [1.0, \"#f0f921\"]]}, \"colorway\": [\"#636efa\", \"#EF553B\", \"#00cc96\", \"#ab63fa\", \"#FFA15A\", \"#19d3f3\", \"#FF6692\", \"#B6E880\", \"#FF97FF\", \"#FECB52\"], \"font\": {\"color\": \"#2a3f5f\"}, \"geo\": {\"bgcolor\": \"white\", \"lakecolor\": \"white\", \"landcolor\": \"#E5ECF6\", \"showlakes\": true, \"showland\": true, \"subunitcolor\": \"white\"}, \"hoverlabel\": {\"align\": \"left\"}, \"hovermode\": \"closest\", \"mapbox\": {\"style\": \"light\"}, \"paper_bgcolor\": \"white\", \"plot_bgcolor\": \"#E5ECF6\", \"polar\": {\"angularaxis\": {\"gridcolor\": \"white\", \"linecolor\": \"white\", \"ticks\": \"\"}, \"bgcolor\": \"#E5ECF6\", \"radialaxis\": {\"gridcolor\": \"white\", \"linecolor\": \"white\", \"ticks\": \"\"}}, \"scene\": {\"xaxis\": {\"backgroundcolor\": \"#E5ECF6\", \"gridcolor\": \"white\", \"gridwidth\": 2, \"linecolor\": \"white\", \"showbackground\": true, \"ticks\": \"\", \"zerolinecolor\": \"white\"}, \"yaxis\": {\"backgroundcolor\": \"#E5ECF6\", \"gridcolor\": \"white\", \"gridwidth\": 2, \"linecolor\": \"white\", \"showbackground\": true, \"ticks\": \"\", \"zerolinecolor\": \"white\"}, \"zaxis\": {\"backgroundcolor\": \"#E5ECF6\", \"gridcolor\": \"white\", \"gridwidth\": 2, \"linecolor\": \"white\", \"showbackground\": true, \"ticks\": \"\", \"zerolinecolor\": \"white\"}}, \"shapedefaults\": {\"line\": {\"color\": \"#2a3f5f\"}}, \"ternary\": {\"aaxis\": {\"gridcolor\": \"white\", \"linecolor\": \"white\", \"ticks\": \"\"}, \"baxis\": {\"gridcolor\": \"white\", \"linecolor\": \"white\", \"ticks\": \"\"}, \"bgcolor\": \"#E5ECF6\", \"caxis\": {\"gridcolor\": \"white\", \"linecolor\": \"white\", \"ticks\": \"\"}}, \"title\": {\"x\": 0.05}, \"xaxis\": {\"automargin\": true, \"gridcolor\": \"white\", \"linecolor\": \"white\", \"ticks\": \"\", \"title\": {\"standoff\": 15}, \"zerolinecolor\": \"white\", \"zerolinewidth\": 2}, \"yaxis\": {\"automargin\": true, \"gridcolor\": \"white\", \"linecolor\": \"white\", \"ticks\": \"\", \"title\": {\"standoff\": 15}, \"zerolinecolor\": \"white\", \"zerolinewidth\": 2}}}, \"xaxis\": {\"tickmode\": \"array\", \"ticktext\": [\"mix\", \"onlyOA\", \"ohne\"], \"tickvals\": [0, 1, 2]}, \"yaxis\": {\"title\": {\"text\": \"XY\"}}},\n",
       "                        {\"responsive\": true}\n",
       "                    ).then(function(){\n",
       "                            \n",
       "var gd = document.getElementById('cfc390cc-5043-433a-a6c3-672e3970afe9');\n",
       "var x = new MutationObserver(function (mutations, observer) {{\n",
       "        var display = window.getComputedStyle(gd).display;\n",
       "        if (!display || display === 'none') {{\n",
       "            console.log([gd, 'removed!']);\n",
       "            Plotly.purge(gd);\n",
       "            observer.disconnect();\n",
       "        }}\n",
       "}});\n",
       "\n",
       "// Listen for the removal of the full notebook cells\n",
       "var notebookContainer = gd.closest('#notebook-container');\n",
       "if (notebookContainer) {{\n",
       "    x.observe(notebookContainer, {childList: true});\n",
       "}}\n",
       "\n",
       "// Listen for the clearing of the current output cell\n",
       "var outputEl = gd.closest('.output');\n",
       "if (outputEl) {{\n",
       "    x.observe(outputEl, {childList: true});\n",
       "}}\n",
       "\n",
       "                        })\n",
       "                };\n",
       "                });\n",
       "            </script>\n",
       "        </div>"
      ]
     },
     "metadata": {},
     "output_type": "display_data"
    }
   ],
   "source": [
    "import plotly.graph_objects as go\n",
    "import numpy as np\n",
    "\n",
    "\n",
    "data = []\n",
    "\n",
    "for i in range(df04.shape[0]):\n",
    "    data.append(go.Scatter(x=[0,1,2], y=columns_test.iloc[i,:], mode=\"lines\", name=df04.iloc[i,0]))\n",
    "\n",
    "fig = go.Figure(data=data)\n",
    "\n",
    "fig.update_layout(\n",
    "    xaxis = dict(\n",
    "        tickmode = 'array',\n",
    "        tickvals = [0, 1, 2],\n",
    "        ticktext = ['mix', 'onlyOA', 'ohne']\n",
    "    )\n",
    ")\n",
    "\n",
    "fig.update_yaxes(title_text=\"XY\")\n",
    "\n",
    "fig.show()"
   ]
  },
  {
   "cell_type": "code",
   "execution_count": null,
   "metadata": {},
   "outputs": [],
   "source": []
  },
  {
   "cell_type": "code",
   "execution_count": 84,
   "metadata": {},
   "outputs": [],
   "source": [
    "cluster_means = {\n",
    "    'Coke': {'mean': [36.35, -22.44], 'var': [216.68, 579.91]}, \n",
    "    'CokeZero': {'mean': [30.93, -18.14], 'var': [225.28, 453.22]}, \n",
    "    'Fanta': {'mean': [42.55, -26.63], 'var': [333.50, 717.19]}, \n",
    "    'Jever': {'mean': [-11.79, -19.81], 'var':[36.24, 135.73]}, \n",
    "    'Krombacher': {'mean': [-35.99, -38.99], 'var': [91.66, 67.63]}, \n",
    "    'MakoEnergy': {'mean': [17.13, 52.31], 'var': [263.52, 214.06]}, \n",
    "    'RedBull': {'mean': [-5.49, 38.34], 'var': [432.41, 568.26]}, \n",
    "    'RedBullZero': {'mean': [-4.21, 34.17], 'var': [171.04, 91.72]}, \n",
    "    'WaterBottle': {'mean':[-57.09, 11.24], 'var': [83.16, 162.32]}}"
   ]
  },
  {
   "cell_type": "code",
   "execution_count": 91,
   "metadata": {},
   "outputs": [
    {
     "data": {
      "text/html": [
       "<div>\n",
       "<style scoped>\n",
       "    .dataframe tbody tr th:only-of-type {\n",
       "        vertical-align: middle;\n",
       "    }\n",
       "\n",
       "    .dataframe tbody tr th {\n",
       "        vertical-align: top;\n",
       "    }\n",
       "\n",
       "    .dataframe thead th {\n",
       "        text-align: right;\n",
       "    }\n",
       "</style>\n",
       "<table border=\"1\" class=\"dataframe\">\n",
       "  <thead>\n",
       "    <tr style=\"text-align: right;\">\n",
       "      <th></th>\n",
       "      <th>IDs</th>\n",
       "      <th>True Label</th>\n",
       "      <th>True Labelname</th>\n",
       "      <th>Predict Label</th>\n",
       "      <th>Predict Labelname</th>\n",
       "      <th>ambiguous</th>\n",
       "      <th>overlap</th>\n",
       "      <th>Predict Prob.</th>\n",
       "      <th>Dist to Cluster Coke</th>\n",
       "      <th>Predict Prob. Coke</th>\n",
       "      <th>Dist to Cluster CokeZero</th>\n",
       "      <th>Predict Prob. CokeZero</th>\n",
       "      <th>Dist to Cluster Fanta</th>\n",
       "      <th>Predict Prob. Fanta</th>\n",
       "      <th>Dist to Cluster Jever</th>\n",
       "      <th>Predict Prob. Jever</th>\n",
       "      <th>Dist to Cluster Krombacher</th>\n",
       "      <th>Predict Prob. Krombacher</th>\n",
       "      <th>Dist to Cluster MakoEnergy</th>\n",
       "      <th>Predict Prob. MakoEnergy</th>\n",
       "      <th>Dist to Cluster RedBull</th>\n",
       "      <th>Predict Prob. RedBull</th>\n",
       "      <th>Dist to Cluster RedBullZero</th>\n",
       "      <th>Predict Prob. RedBullZero</th>\n",
       "      <th>Dist to Cluster WaterBottle</th>\n",
       "      <th>Predict Prob. WaterBottle</th>\n",
       "    </tr>\n",
       "  </thead>\n",
       "  <tbody>\n",
       "    <tr>\n",
       "      <th>0</th>\n",
       "      <td>1252</td>\n",
       "      <td>7</td>\n",
       "      <td>RedBullZero</td>\n",
       "      <td>7</td>\n",
       "      <td>RedBullZero</td>\n",
       "      <td>1</td>\n",
       "      <td>0</td>\n",
       "      <td>0.795960</td>\n",
       "      <td>51,310</td>\n",
       "      <td>0.0</td>\n",
       "      <td>44,455</td>\n",
       "      <td>0.0</td>\n",
       "      <td>58,658</td>\n",
       "      <td>0.0</td>\n",
       "      <td>36,314</td>\n",
       "      <td>0.000000</td>\n",
       "      <td>64,651</td>\n",
       "      <td>0.000000</td>\n",
       "      <td>41,432</td>\n",
       "      <td>0.0</td>\n",
       "      <td>24,754</td>\n",
       "      <td>0.204040</td>\n",
       "      <td>20,396</td>\n",
       "      <td>0.795960</td>\n",
       "      <td>57,740</td>\n",
       "      <td>0.0</td>\n",
       "    </tr>\n",
       "    <tr>\n",
       "      <th>1</th>\n",
       "      <td>1232</td>\n",
       "      <td>7</td>\n",
       "      <td>RedBullZero</td>\n",
       "      <td>7</td>\n",
       "      <td>RedBullZero</td>\n",
       "      <td>1</td>\n",
       "      <td>1</td>\n",
       "      <td>0.793633</td>\n",
       "      <td>53,451</td>\n",
       "      <td>0.0</td>\n",
       "      <td>46,560</td>\n",
       "      <td>0.0</td>\n",
       "      <td>60,849</td>\n",
       "      <td>0.0</td>\n",
       "      <td>35,317</td>\n",
       "      <td>0.000000</td>\n",
       "      <td>62,902</td>\n",
       "      <td>0.000000</td>\n",
       "      <td>42,819</td>\n",
       "      <td>0.0</td>\n",
       "      <td>24,258</td>\n",
       "      <td>0.206367</td>\n",
       "      <td>19,974</td>\n",
       "      <td>0.793633</td>\n",
       "      <td>54,665</td>\n",
       "      <td>0.0</td>\n",
       "    </tr>\n",
       "    <tr>\n",
       "      <th>2</th>\n",
       "      <td>2669</td>\n",
       "      <td>7</td>\n",
       "      <td>RedBullZero</td>\n",
       "      <td>7</td>\n",
       "      <td>RedBullZero</td>\n",
       "      <td>1</td>\n",
       "      <td>1</td>\n",
       "      <td>0.801990</td>\n",
       "      <td>53,810</td>\n",
       "      <td>0.0</td>\n",
       "      <td>46,914</td>\n",
       "      <td>0.0</td>\n",
       "      <td>61,215</td>\n",
       "      <td>0.0</td>\n",
       "      <td>35,166</td>\n",
       "      <td>0.000000</td>\n",
       "      <td>62,614</td>\n",
       "      <td>0.000000</td>\n",
       "      <td>43,074</td>\n",
       "      <td>0.0</td>\n",
       "      <td>24,221</td>\n",
       "      <td>0.198010</td>\n",
       "      <td>19,958</td>\n",
       "      <td>0.801990</td>\n",
       "      <td>54,153</td>\n",
       "      <td>0.0</td>\n",
       "    </tr>\n",
       "    <tr>\n",
       "      <th>3</th>\n",
       "      <td>2685</td>\n",
       "      <td>7</td>\n",
       "      <td>RedBullZero</td>\n",
       "      <td>7</td>\n",
       "      <td>RedBullZero</td>\n",
       "      <td>1</td>\n",
       "      <td>1</td>\n",
       "      <td>1.000000</td>\n",
       "      <td>53,892</td>\n",
       "      <td>0.0</td>\n",
       "      <td>46,983</td>\n",
       "      <td>0.0</td>\n",
       "      <td>61,322</td>\n",
       "      <td>0.0</td>\n",
       "      <td>33,961</td>\n",
       "      <td>0.000000</td>\n",
       "      <td>61,239</td>\n",
       "      <td>0.000000</td>\n",
       "      <td>44,426</td>\n",
       "      <td>0.0</td>\n",
       "      <td>25,129</td>\n",
       "      <td>0.000000</td>\n",
       "      <td>20,915</td>\n",
       "      <td>1.000000</td>\n",
       "      <td>53,097</td>\n",
       "      <td>0.0</td>\n",
       "    </tr>\n",
       "    <tr>\n",
       "      <th>4</th>\n",
       "      <td>1281</td>\n",
       "      <td>7</td>\n",
       "      <td>RedBullZero</td>\n",
       "      <td>6</td>\n",
       "      <td>RedBull</td>\n",
       "      <td>1</td>\n",
       "      <td>0</td>\n",
       "      <td>0.797564</td>\n",
       "      <td>50,834</td>\n",
       "      <td>0.0</td>\n",
       "      <td>43,947</td>\n",
       "      <td>0.0</td>\n",
       "      <td>58,226</td>\n",
       "      <td>0.0</td>\n",
       "      <td>34,441</td>\n",
       "      <td>0.000000</td>\n",
       "      <td>62,750</td>\n",
       "      <td>0.000000</td>\n",
       "      <td>43,326</td>\n",
       "      <td>0.0</td>\n",
       "      <td>26,149</td>\n",
       "      <td>0.797564</td>\n",
       "      <td>21,811</td>\n",
       "      <td>0.202436</td>\n",
       "      <td>56,714</td>\n",
       "      <td>0.0</td>\n",
       "    </tr>\n",
       "    <tr>\n",
       "      <th>5</th>\n",
       "      <td>1290</td>\n",
       "      <td>7</td>\n",
       "      <td>RedBullZero</td>\n",
       "      <td>6</td>\n",
       "      <td>RedBull</td>\n",
       "      <td>1</td>\n",
       "      <td>1</td>\n",
       "      <td>0.800739</td>\n",
       "      <td>50,359</td>\n",
       "      <td>0.0</td>\n",
       "      <td>43,468</td>\n",
       "      <td>0.0</td>\n",
       "      <td>57,757</td>\n",
       "      <td>0.0</td>\n",
       "      <td>33,983</td>\n",
       "      <td>0.000000</td>\n",
       "      <td>62,391</td>\n",
       "      <td>0.000000</td>\n",
       "      <td>43,761</td>\n",
       "      <td>0.0</td>\n",
       "      <td>26,704</td>\n",
       "      <td>0.800739</td>\n",
       "      <td>22,366</td>\n",
       "      <td>0.199261</td>\n",
       "      <td>56,847</td>\n",
       "      <td>0.0</td>\n",
       "    </tr>\n",
       "    <tr>\n",
       "      <th>6</th>\n",
       "      <td>1264</td>\n",
       "      <td>7</td>\n",
       "      <td>RedBullZero</td>\n",
       "      <td>7</td>\n",
       "      <td>RedBullZero</td>\n",
       "      <td>1</td>\n",
       "      <td>0</td>\n",
       "      <td>0.603736</td>\n",
       "      <td>51,406</td>\n",
       "      <td>0.0</td>\n",
       "      <td>44,515</td>\n",
       "      <td>0.0</td>\n",
       "      <td>58,805</td>\n",
       "      <td>0.0</td>\n",
       "      <td>34,388</td>\n",
       "      <td>0.000000</td>\n",
       "      <td>62,524</td>\n",
       "      <td>0.000000</td>\n",
       "      <td>43,441</td>\n",
       "      <td>0.0</td>\n",
       "      <td>25,874</td>\n",
       "      <td>0.396264</td>\n",
       "      <td>21,550</td>\n",
       "      <td>0.603736</td>\n",
       "      <td>56,082</td>\n",
       "      <td>0.0</td>\n",
       "    </tr>\n",
       "    <tr>\n",
       "      <th>7</th>\n",
       "      <td>2677</td>\n",
       "      <td>7</td>\n",
       "      <td>RedBullZero</td>\n",
       "      <td>7</td>\n",
       "      <td>RedBullZero</td>\n",
       "      <td>1</td>\n",
       "      <td>1</td>\n",
       "      <td>0.596168</td>\n",
       "      <td>54,324</td>\n",
       "      <td>0.0</td>\n",
       "      <td>47,414</td>\n",
       "      <td>0.0</td>\n",
       "      <td>61,754</td>\n",
       "      <td>0.0</td>\n",
       "      <td>34,141</td>\n",
       "      <td>0.000000</td>\n",
       "      <td>61,287</td>\n",
       "      <td>0.000000</td>\n",
       "      <td>44,359</td>\n",
       "      <td>0.0</td>\n",
       "      <td>24,848</td>\n",
       "      <td>0.403832</td>\n",
       "      <td>20,651</td>\n",
       "      <td>0.596168</td>\n",
       "      <td>52,765</td>\n",
       "      <td>0.0</td>\n",
       "    </tr>\n",
       "    <tr>\n",
       "      <th>8</th>\n",
       "      <td>1244</td>\n",
       "      <td>7</td>\n",
       "      <td>RedBullZero</td>\n",
       "      <td>7</td>\n",
       "      <td>RedBullZero</td>\n",
       "      <td>1</td>\n",
       "      <td>1</td>\n",
       "      <td>0.590079</td>\n",
       "      <td>51,813</td>\n",
       "      <td>0.0</td>\n",
       "      <td>44,931</td>\n",
       "      <td>0.0</td>\n",
       "      <td>59,196</td>\n",
       "      <td>0.0</td>\n",
       "      <td>35,177</td>\n",
       "      <td>0.000000</td>\n",
       "      <td>63,263</td>\n",
       "      <td>0.000000</td>\n",
       "      <td>42,667</td>\n",
       "      <td>0.0</td>\n",
       "      <td>25,146</td>\n",
       "      <td>0.409921</td>\n",
       "      <td>20,815</td>\n",
       "      <td>0.590079</td>\n",
       "      <td>56,285</td>\n",
       "      <td>0.0</td>\n",
       "    </tr>\n",
       "    <tr>\n",
       "      <th>9</th>\n",
       "      <td>1300</td>\n",
       "      <td>7</td>\n",
       "      <td>RedBullZero</td>\n",
       "      <td>4</td>\n",
       "      <td>Krombacher</td>\n",
       "      <td>1</td>\n",
       "      <td>1</td>\n",
       "      <td>0.803288</td>\n",
       "      <td>50,213</td>\n",
       "      <td>0.0</td>\n",
       "      <td>43,308</td>\n",
       "      <td>0.0</td>\n",
       "      <td>57,634</td>\n",
       "      <td>0.0</td>\n",
       "      <td>32,866</td>\n",
       "      <td>0.000000</td>\n",
       "      <td>61,229</td>\n",
       "      <td>0.803288</td>\n",
       "      <td>44,897</td>\n",
       "      <td>0.0</td>\n",
       "      <td>27,512</td>\n",
       "      <td>0.196712</td>\n",
       "      <td>23,192</td>\n",
       "      <td>0.000000</td>\n",
       "      <td>56,165</td>\n",
       "      <td>0.0</td>\n",
       "    </tr>\n",
       "    <tr>\n",
       "      <th>10</th>\n",
       "      <td>2723</td>\n",
       "      <td>7</td>\n",
       "      <td>RedBullZero</td>\n",
       "      <td>6</td>\n",
       "      <td>RedBull</td>\n",
       "      <td>1</td>\n",
       "      <td>1</td>\n",
       "      <td>0.600538</td>\n",
       "      <td>52,541</td>\n",
       "      <td>0.0</td>\n",
       "      <td>45,624</td>\n",
       "      <td>0.0</td>\n",
       "      <td>59,987</td>\n",
       "      <td>0.0</td>\n",
       "      <td>32,328</td>\n",
       "      <td>0.000000</td>\n",
       "      <td>59,901</td>\n",
       "      <td>0.000000</td>\n",
       "      <td>45,846</td>\n",
       "      <td>0.0</td>\n",
       "      <td>26,892</td>\n",
       "      <td>0.600538</td>\n",
       "      <td>22,668</td>\n",
       "      <td>0.399462</td>\n",
       "      <td>53,333</td>\n",
       "      <td>0.0</td>\n",
       "    </tr>\n",
       "    <tr>\n",
       "      <th>11</th>\n",
       "      <td>1276</td>\n",
       "      <td>7</td>\n",
       "      <td>RedBullZero</td>\n",
       "      <td>7</td>\n",
       "      <td>RedBullZero</td>\n",
       "      <td>1</td>\n",
       "      <td>0</td>\n",
       "      <td>0.608453</td>\n",
       "      <td>51,239</td>\n",
       "      <td>0.0</td>\n",
       "      <td>44,359</td>\n",
       "      <td>0.0</td>\n",
       "      <td>58,621</td>\n",
       "      <td>0.0</td>\n",
       "      <td>35,022</td>\n",
       "      <td>0.000000</td>\n",
       "      <td>63,264</td>\n",
       "      <td>0.000000</td>\n",
       "      <td>42,762</td>\n",
       "      <td>0.0</td>\n",
       "      <td>25,558</td>\n",
       "      <td>0.391547</td>\n",
       "      <td>21,218</td>\n",
       "      <td>0.608453</td>\n",
       "      <td>56,755</td>\n",
       "      <td>0.0</td>\n",
       "    </tr>\n",
       "    <tr>\n",
       "      <th>12</th>\n",
       "      <td>2718</td>\n",
       "      <td>7</td>\n",
       "      <td>RedBullZero</td>\n",
       "      <td>6</td>\n",
       "      <td>RedBull</td>\n",
       "      <td>1</td>\n",
       "      <td>0</td>\n",
       "      <td>1.000000</td>\n",
       "      <td>52,301</td>\n",
       "      <td>0.0</td>\n",
       "      <td>45,385</td>\n",
       "      <td>0.0</td>\n",
       "      <td>59,743</td>\n",
       "      <td>0.0</td>\n",
       "      <td>32,516</td>\n",
       "      <td>0.000000</td>\n",
       "      <td>60,191</td>\n",
       "      <td>0.000000</td>\n",
       "      <td>45,586</td>\n",
       "      <td>0.0</td>\n",
       "      <td>26,828</td>\n",
       "      <td>1.000000</td>\n",
       "      <td>22,587</td>\n",
       "      <td>0.000000</td>\n",
       "      <td>53,727</td>\n",
       "      <td>0.0</td>\n",
       "    </tr>\n",
       "    <tr>\n",
       "      <th>13</th>\n",
       "      <td>1286</td>\n",
       "      <td>7</td>\n",
       "      <td>RedBullZero</td>\n",
       "      <td>7</td>\n",
       "      <td>RedBullZero</td>\n",
       "      <td>1</td>\n",
       "      <td>1</td>\n",
       "      <td>0.607331</td>\n",
       "      <td>50,853</td>\n",
       "      <td>0.0</td>\n",
       "      <td>43,964</td>\n",
       "      <td>0.0</td>\n",
       "      <td>58,248</td>\n",
       "      <td>0.0</td>\n",
       "      <td>34,315</td>\n",
       "      <td>0.000000</td>\n",
       "      <td>62,608</td>\n",
       "      <td>0.000000</td>\n",
       "      <td>43,458</td>\n",
       "      <td>0.0</td>\n",
       "      <td>26,218</td>\n",
       "      <td>0.392669</td>\n",
       "      <td>21,883</td>\n",
       "      <td>0.607331</td>\n",
       "      <td>56,597</td>\n",
       "      <td>0.0</td>\n",
       "    </tr>\n",
       "    <tr>\n",
       "      <th>14</th>\n",
       "      <td>2697</td>\n",
       "      <td>7</td>\n",
       "      <td>RedBullZero</td>\n",
       "      <td>7</td>\n",
       "      <td>RedBullZero</td>\n",
       "      <td>1</td>\n",
       "      <td>0</td>\n",
       "      <td>1.000000</td>\n",
       "      <td>53,457</td>\n",
       "      <td>0.0</td>\n",
       "      <td>46,543</td>\n",
       "      <td>0.0</td>\n",
       "      <td>60,897</td>\n",
       "      <td>0.0</td>\n",
       "      <td>33,194</td>\n",
       "      <td>0.000000</td>\n",
       "      <td>60,539</td>\n",
       "      <td>0.000000</td>\n",
       "      <td>45,144</td>\n",
       "      <td>0.0</td>\n",
       "      <td>25,889</td>\n",
       "      <td>0.000000</td>\n",
       "      <td>21,681</td>\n",
       "      <td>1.000000</td>\n",
       "      <td>52,981</td>\n",
       "      <td>0.0</td>\n",
       "    </tr>\n",
       "    <tr>\n",
       "      <th>15</th>\n",
       "      <td>2681</td>\n",
       "      <td>7</td>\n",
       "      <td>RedBullZero</td>\n",
       "      <td>7</td>\n",
       "      <td>RedBullZero</td>\n",
       "      <td>1</td>\n",
       "      <td>1</td>\n",
       "      <td>1.000000</td>\n",
       "      <td>53,364</td>\n",
       "      <td>0.0</td>\n",
       "      <td>46,456</td>\n",
       "      <td>0.0</td>\n",
       "      <td>60,790</td>\n",
       "      <td>0.0</td>\n",
       "      <td>33,922</td>\n",
       "      <td>0.000000</td>\n",
       "      <td>61,381</td>\n",
       "      <td>0.000000</td>\n",
       "      <td>44,321</td>\n",
       "      <td>0.0</td>\n",
       "      <td>25,341</td>\n",
       "      <td>0.000000</td>\n",
       "      <td>21,101</td>\n",
       "      <td>1.000000</td>\n",
       "      <td>53,641</td>\n",
       "      <td>0.0</td>\n",
       "    </tr>\n",
       "    <tr>\n",
       "      <th>16</th>\n",
       "      <td>2673</td>\n",
       "      <td>7</td>\n",
       "      <td>RedBullZero</td>\n",
       "      <td>7</td>\n",
       "      <td>RedBullZero</td>\n",
       "      <td>1</td>\n",
       "      <td>1</td>\n",
       "      <td>1.000000</td>\n",
       "      <td>54,251</td>\n",
       "      <td>0.0</td>\n",
       "      <td>47,335</td>\n",
       "      <td>0.0</td>\n",
       "      <td>61,693</td>\n",
       "      <td>0.0</td>\n",
       "      <td>33,365</td>\n",
       "      <td>0.000000</td>\n",
       "      <td>60,442</td>\n",
       "      <td>0.000000</td>\n",
       "      <td>45,202</td>\n",
       "      <td>0.0</td>\n",
       "      <td>25,517</td>\n",
       "      <td>0.000000</td>\n",
       "      <td>21,347</td>\n",
       "      <td>1.000000</td>\n",
       "      <td>52,240</td>\n",
       "      <td>0.0</td>\n",
       "    </tr>\n",
       "    <tr>\n",
       "      <th>17</th>\n",
       "      <td>2689</td>\n",
       "      <td>7</td>\n",
       "      <td>RedBullZero</td>\n",
       "      <td>7</td>\n",
       "      <td>RedBullZero</td>\n",
       "      <td>1</td>\n",
       "      <td>0</td>\n",
       "      <td>0.803892</td>\n",
       "      <td>53,915</td>\n",
       "      <td>0.0</td>\n",
       "      <td>47,005</td>\n",
       "      <td>0.0</td>\n",
       "      <td>61,344</td>\n",
       "      <td>0.0</td>\n",
       "      <td>33,975</td>\n",
       "      <td>0.000000</td>\n",
       "      <td>61,248</td>\n",
       "      <td>0.000000</td>\n",
       "      <td>44,416</td>\n",
       "      <td>0.0</td>\n",
       "      <td>25,110</td>\n",
       "      <td>0.196108</td>\n",
       "      <td>20,897</td>\n",
       "      <td>0.803892</td>\n",
       "      <td>53,084</td>\n",
       "      <td>0.0</td>\n",
       "    </tr>\n",
       "    <tr>\n",
       "      <th>18</th>\n",
       "      <td>1295</td>\n",
       "      <td>7</td>\n",
       "      <td>RedBullZero</td>\n",
       "      <td>6</td>\n",
       "      <td>RedBull</td>\n",
       "      <td>1</td>\n",
       "      <td>1</td>\n",
       "      <td>0.797391</td>\n",
       "      <td>50,271</td>\n",
       "      <td>0.0</td>\n",
       "      <td>43,366</td>\n",
       "      <td>0.0</td>\n",
       "      <td>57,693</td>\n",
       "      <td>0.0</td>\n",
       "      <td>32,824</td>\n",
       "      <td>0.000000</td>\n",
       "      <td>61,167</td>\n",
       "      <td>0.202609</td>\n",
       "      <td>44,945</td>\n",
       "      <td>0.0</td>\n",
       "      <td>27,510</td>\n",
       "      <td>0.797391</td>\n",
       "      <td>23,192</td>\n",
       "      <td>0.000000</td>\n",
       "      <td>56,075</td>\n",
       "      <td>0.0</td>\n",
       "    </tr>\n",
       "    <tr>\n",
       "      <th>19</th>\n",
       "      <td>1272</td>\n",
       "      <td>7</td>\n",
       "      <td>RedBullZero</td>\n",
       "      <td>7</td>\n",
       "      <td>RedBullZero</td>\n",
       "      <td>1</td>\n",
       "      <td>0</td>\n",
       "      <td>0.795689</td>\n",
       "      <td>51,129</td>\n",
       "      <td>0.0</td>\n",
       "      <td>44,247</td>\n",
       "      <td>0.0</td>\n",
       "      <td>58,513</td>\n",
       "      <td>0.0</td>\n",
       "      <td>34,874</td>\n",
       "      <td>0.000000</td>\n",
       "      <td>63,135</td>\n",
       "      <td>0.000000</td>\n",
       "      <td>42,905</td>\n",
       "      <td>0.0</td>\n",
       "      <td>25,712</td>\n",
       "      <td>0.204311</td>\n",
       "      <td>21,372</td>\n",
       "      <td>0.795689</td>\n",
       "      <td>56,752</td>\n",
       "      <td>0.0</td>\n",
       "    </tr>\n",
       "    <tr>\n",
       "      <th>20</th>\n",
       "      <td>1248</td>\n",
       "      <td>7</td>\n",
       "      <td>RedBullZero</td>\n",
       "      <td>7</td>\n",
       "      <td>RedBullZero</td>\n",
       "      <td>1</td>\n",
       "      <td>1</td>\n",
       "      <td>0.804686</td>\n",
       "      <td>51,312</td>\n",
       "      <td>0.0</td>\n",
       "      <td>44,457</td>\n",
       "      <td>0.0</td>\n",
       "      <td>58,659</td>\n",
       "      <td>0.0</td>\n",
       "      <td>36,334</td>\n",
       "      <td>0.000000</td>\n",
       "      <td>64,672</td>\n",
       "      <td>0.000000</td>\n",
       "      <td>41,412</td>\n",
       "      <td>0.0</td>\n",
       "      <td>24,742</td>\n",
       "      <td>0.195314</td>\n",
       "      <td>20,383</td>\n",
       "      <td>0.804686</td>\n",
       "      <td>57,755</td>\n",
       "      <td>0.0</td>\n",
       "    </tr>\n",
       "    <tr>\n",
       "      <th>21</th>\n",
       "      <td>2701</td>\n",
       "      <td>7</td>\n",
       "      <td>RedBullZero</td>\n",
       "      <td>6</td>\n",
       "      <td>RedBull</td>\n",
       "      <td>1</td>\n",
       "      <td>0</td>\n",
       "      <td>0.601633</td>\n",
       "      <td>53,189</td>\n",
       "      <td>0.0</td>\n",
       "      <td>46,273</td>\n",
       "      <td>0.0</td>\n",
       "      <td>60,633</td>\n",
       "      <td>0.0</td>\n",
       "      <td>32,780</td>\n",
       "      <td>0.000000</td>\n",
       "      <td>60,174</td>\n",
       "      <td>0.000000</td>\n",
       "      <td>45,522</td>\n",
       "      <td>0.0</td>\n",
       "      <td>26,311</td>\n",
       "      <td>0.601633</td>\n",
       "      <td>22,104</td>\n",
       "      <td>0.398367</td>\n",
       "      <td>52,964</td>\n",
       "      <td>0.0</td>\n",
       "    </tr>\n",
       "    <tr>\n",
       "      <th>22</th>\n",
       "      <td>2693</td>\n",
       "      <td>7</td>\n",
       "      <td>RedBullZero</td>\n",
       "      <td>7</td>\n",
       "      <td>RedBullZero</td>\n",
       "      <td>1</td>\n",
       "      <td>0</td>\n",
       "      <td>0.804050</td>\n",
       "      <td>53,404</td>\n",
       "      <td>0.0</td>\n",
       "      <td>46,494</td>\n",
       "      <td>0.0</td>\n",
       "      <td>60,836</td>\n",
       "      <td>0.0</td>\n",
       "      <td>33,618</td>\n",
       "      <td>0.000000</td>\n",
       "      <td>61,029</td>\n",
       "      <td>0.000000</td>\n",
       "      <td>44,664</td>\n",
       "      <td>0.0</td>\n",
       "      <td>25,566</td>\n",
       "      <td>0.195950</td>\n",
       "      <td>21,339</td>\n",
       "      <td>0.804050</td>\n",
       "      <td>53,362</td>\n",
       "      <td>0.0</td>\n",
       "    </tr>\n",
       "    <tr>\n",
       "      <th>23</th>\n",
       "      <td>1260</td>\n",
       "      <td>7</td>\n",
       "      <td>RedBullZero</td>\n",
       "      <td>7</td>\n",
       "      <td>RedBullZero</td>\n",
       "      <td>1</td>\n",
       "      <td>0</td>\n",
       "      <td>0.794938</td>\n",
       "      <td>51,299</td>\n",
       "      <td>0.0</td>\n",
       "      <td>44,417</td>\n",
       "      <td>0.0</td>\n",
       "      <td>58,683</td>\n",
       "      <td>0.0</td>\n",
       "      <td>34,964</td>\n",
       "      <td>0.000000</td>\n",
       "      <td>63,184</td>\n",
       "      <td>0.000000</td>\n",
       "      <td>42,828</td>\n",
       "      <td>0.0</td>\n",
       "      <td>25,561</td>\n",
       "      <td>0.205062</td>\n",
       "      <td>21,223</td>\n",
       "      <td>0.794938</td>\n",
       "      <td>56,648</td>\n",
       "      <td>0.0</td>\n",
       "    </tr>\n",
       "    <tr>\n",
       "      <th>24</th>\n",
       "      <td>2727</td>\n",
       "      <td>7</td>\n",
       "      <td>RedBullZero</td>\n",
       "      <td>7</td>\n",
       "      <td>RedBullZero</td>\n",
       "      <td>1</td>\n",
       "      <td>1</td>\n",
       "      <td>1.000000</td>\n",
       "      <td>52,657</td>\n",
       "      <td>0.0</td>\n",
       "      <td>45,739</td>\n",
       "      <td>0.0</td>\n",
       "      <td>60,106</td>\n",
       "      <td>0.0</td>\n",
       "      <td>32,160</td>\n",
       "      <td>0.000000</td>\n",
       "      <td>59,677</td>\n",
       "      <td>0.000000</td>\n",
       "      <td>46,056</td>\n",
       "      <td>0.0</td>\n",
       "      <td>26,988</td>\n",
       "      <td>0.000000</td>\n",
       "      <td>22,775</td>\n",
       "      <td>1.000000</td>\n",
       "      <td>53,088</td>\n",
       "      <td>0.0</td>\n",
       "    </tr>\n",
       "    <tr>\n",
       "      <th>25</th>\n",
       "      <td>1256</td>\n",
       "      <td>7</td>\n",
       "      <td>RedBullZero</td>\n",
       "      <td>6</td>\n",
       "      <td>RedBull</td>\n",
       "      <td>1</td>\n",
       "      <td>0</td>\n",
       "      <td>0.609567</td>\n",
       "      <td>51,638</td>\n",
       "      <td>0.0</td>\n",
       "      <td>44,748</td>\n",
       "      <td>0.0</td>\n",
       "      <td>59,033</td>\n",
       "      <td>0.0</td>\n",
       "      <td>34,616</td>\n",
       "      <td>0.000000</td>\n",
       "      <td>62,703</td>\n",
       "      <td>0.000000</td>\n",
       "      <td>43,233</td>\n",
       "      <td>0.0</td>\n",
       "      <td>25,603</td>\n",
       "      <td>0.609567</td>\n",
       "      <td>21,280</td>\n",
       "      <td>0.390433</td>\n",
       "      <td>56,020</td>\n",
       "      <td>0.0</td>\n",
       "    </tr>\n",
       "    <tr>\n",
       "      <th>26</th>\n",
       "      <td>2713</td>\n",
       "      <td>7</td>\n",
       "      <td>RedBullZero</td>\n",
       "      <td>7</td>\n",
       "      <td>RedBullZero</td>\n",
       "      <td>1</td>\n",
       "      <td>0</td>\n",
       "      <td>0.803742</td>\n",
       "      <td>52,915</td>\n",
       "      <td>0.0</td>\n",
       "      <td>45,999</td>\n",
       "      <td>0.0</td>\n",
       "      <td>60,357</td>\n",
       "      <td>0.0</td>\n",
       "      <td>32,733</td>\n",
       "      <td>0.000000</td>\n",
       "      <td>60,218</td>\n",
       "      <td>0.000000</td>\n",
       "      <td>45,500</td>\n",
       "      <td>0.0</td>\n",
       "      <td>26,439</td>\n",
       "      <td>0.196258</td>\n",
       "      <td>22,220</td>\n",
       "      <td>0.803742</td>\n",
       "      <td>53,226</td>\n",
       "      <td>0.0</td>\n",
       "    </tr>\n",
       "    <tr>\n",
       "      <th>27</th>\n",
       "      <td>2732</td>\n",
       "      <td>7</td>\n",
       "      <td>RedBullZero</td>\n",
       "      <td>6</td>\n",
       "      <td>RedBull</td>\n",
       "      <td>1</td>\n",
       "      <td>1</td>\n",
       "      <td>0.798974</td>\n",
       "      <td>52,803</td>\n",
       "      <td>0.0</td>\n",
       "      <td>45,883</td>\n",
       "      <td>0.0</td>\n",
       "      <td>60,262</td>\n",
       "      <td>0.0</td>\n",
       "      <td>31,540</td>\n",
       "      <td>0.000000</td>\n",
       "      <td>58,940</td>\n",
       "      <td>0.000000</td>\n",
       "      <td>46,770</td>\n",
       "      <td>0.0</td>\n",
       "      <td>27,454</td>\n",
       "      <td>0.798974</td>\n",
       "      <td>23,271</td>\n",
       "      <td>0.201026</td>\n",
       "      <td>52,491</td>\n",
       "      <td>0.0</td>\n",
       "    </tr>\n",
       "    <tr>\n",
       "      <th>28</th>\n",
       "      <td>1268</td>\n",
       "      <td>7</td>\n",
       "      <td>RedBullZero</td>\n",
       "      <td>7</td>\n",
       "      <td>RedBullZero</td>\n",
       "      <td>1</td>\n",
       "      <td>0</td>\n",
       "      <td>0.795997</td>\n",
       "      <td>50,870</td>\n",
       "      <td>0.0</td>\n",
       "      <td>43,985</td>\n",
       "      <td>0.0</td>\n",
       "      <td>58,258</td>\n",
       "      <td>0.0</td>\n",
       "      <td>34,597</td>\n",
       "      <td>0.000000</td>\n",
       "      <td>62,909</td>\n",
       "      <td>0.000000</td>\n",
       "      <td>43,168</td>\n",
       "      <td>0.0</td>\n",
       "      <td>26,031</td>\n",
       "      <td>0.204003</td>\n",
       "      <td>21,691</td>\n",
       "      <td>0.795997</td>\n",
       "      <td>56,799</td>\n",
       "      <td>0.0</td>\n",
       "    </tr>\n",
       "    <tr>\n",
       "      <th>29</th>\n",
       "      <td>1240</td>\n",
       "      <td>7</td>\n",
       "      <td>RedBullZero</td>\n",
       "      <td>7</td>\n",
       "      <td>RedBullZero</td>\n",
       "      <td>1</td>\n",
       "      <td>1</td>\n",
       "      <td>0.799915</td>\n",
       "      <td>52,119</td>\n",
       "      <td>0.0</td>\n",
       "      <td>45,250</td>\n",
       "      <td>0.0</td>\n",
       "      <td>59,484</td>\n",
       "      <td>0.0</td>\n",
       "      <td>36,038</td>\n",
       "      <td>0.000000</td>\n",
       "      <td>64,116</td>\n",
       "      <td>0.000000</td>\n",
       "      <td>41,802</td>\n",
       "      <td>0.0</td>\n",
       "      <td>24,437</td>\n",
       "      <td>0.200085</td>\n",
       "      <td>20,095</td>\n",
       "      <td>0.799915</td>\n",
       "      <td>56,673</td>\n",
       "      <td>0.0</td>\n",
       "    </tr>\n",
       "    <tr>\n",
       "      <th>30</th>\n",
       "      <td>2709</td>\n",
       "      <td>7</td>\n",
       "      <td>RedBullZero</td>\n",
       "      <td>6</td>\n",
       "      <td>RedBull</td>\n",
       "      <td>1</td>\n",
       "      <td>0</td>\n",
       "      <td>0.596408</td>\n",
       "      <td>53,186</td>\n",
       "      <td>0.0</td>\n",
       "      <td>46,270</td>\n",
       "      <td>0.0</td>\n",
       "      <td>60,630</td>\n",
       "      <td>0.0</td>\n",
       "      <td>32,784</td>\n",
       "      <td>0.000000</td>\n",
       "      <td>60,179</td>\n",
       "      <td>0.000000</td>\n",
       "      <td>45,518</td>\n",
       "      <td>0.0</td>\n",
       "      <td>26,309</td>\n",
       "      <td>0.596408</td>\n",
       "      <td>22,102</td>\n",
       "      <td>0.403592</td>\n",
       "      <td>52,969</td>\n",
       "      <td>0.0</td>\n",
       "    </tr>\n",
       "    <tr>\n",
       "      <th>31</th>\n",
       "      <td>2737</td>\n",
       "      <td>7</td>\n",
       "      <td>RedBullZero</td>\n",
       "      <td>3</td>\n",
       "      <td>Jever</td>\n",
       "      <td>1</td>\n",
       "      <td>1</td>\n",
       "      <td>0.596705</td>\n",
       "      <td>52,771</td>\n",
       "      <td>0.0</td>\n",
       "      <td>45,851</td>\n",
       "      <td>0.0</td>\n",
       "      <td>60,231</td>\n",
       "      <td>0.0</td>\n",
       "      <td>31,430</td>\n",
       "      <td>0.596705</td>\n",
       "      <td>58,830</td>\n",
       "      <td>0.000000</td>\n",
       "      <td>46,881</td>\n",
       "      <td>0.0</td>\n",
       "      <td>27,556</td>\n",
       "      <td>0.000000</td>\n",
       "      <td>23,374</td>\n",
       "      <td>0.403295</td>\n",
       "      <td>52,449</td>\n",
       "      <td>0.0</td>\n",
       "    </tr>\n",
       "    <tr>\n",
       "      <th>32</th>\n",
       "      <td>2705</td>\n",
       "      <td>7</td>\n",
       "      <td>RedBullZero</td>\n",
       "      <td>6</td>\n",
       "      <td>RedBull</td>\n",
       "      <td>1</td>\n",
       "      <td>0</td>\n",
       "      <td>0.800367</td>\n",
       "      <td>52,953</td>\n",
       "      <td>0.0</td>\n",
       "      <td>46,039</td>\n",
       "      <td>0.0</td>\n",
       "      <td>60,390</td>\n",
       "      <td>0.0</td>\n",
       "      <td>33,066</td>\n",
       "      <td>0.000000</td>\n",
       "      <td>60,573</td>\n",
       "      <td>0.000000</td>\n",
       "      <td>45,148</td>\n",
       "      <td>0.0</td>\n",
       "      <td>26,161</td>\n",
       "      <td>0.800367</td>\n",
       "      <td>21,931</td>\n",
       "      <td>0.199633</td>\n",
       "      <td>53,432</td>\n",
       "      <td>0.0</td>\n",
       "    </tr>\n",
       "    <tr>\n",
       "      <th>33</th>\n",
       "      <td>1236</td>\n",
       "      <td>7</td>\n",
       "      <td>RedBullZero</td>\n",
       "      <td>7</td>\n",
       "      <td>RedBullZero</td>\n",
       "      <td>1</td>\n",
       "      <td>1</td>\n",
       "      <td>0.600796</td>\n",
       "      <td>52,673</td>\n",
       "      <td>0.0</td>\n",
       "      <td>45,786</td>\n",
       "      <td>0.0</td>\n",
       "      <td>60,065</td>\n",
       "      <td>0.0</td>\n",
       "      <td>35,209</td>\n",
       "      <td>0.000000</td>\n",
       "      <td>63,034</td>\n",
       "      <td>0.000000</td>\n",
       "      <td>42,770</td>\n",
       "      <td>0.0</td>\n",
       "      <td>24,688</td>\n",
       "      <td>0.399204</td>\n",
       "      <td>20,379</td>\n",
       "      <td>0.600796</td>\n",
       "      <td>55,407</td>\n",
       "      <td>0.0</td>\n",
       "    </tr>\n",
       "  </tbody>\n",
       "</table>\n",
       "</div>"
      ],
      "text/plain": [
       "     IDs  True Label True Labelname  Predict Label Predict Labelname  ambiguous  overlap  Predict Prob. Dist to Cluster Coke  Predict Prob. Coke Dist to Cluster CokeZero  Predict Prob. CokeZero Dist to Cluster Fanta  Predict Prob. Fanta Dist to Cluster Jever  Predict Prob. Jever Dist to Cluster Krombacher  Predict Prob. Krombacher Dist to Cluster MakoEnergy  Predict Prob. MakoEnergy Dist to Cluster RedBull  Predict Prob. RedBull Dist to Cluster RedBullZero  Predict Prob. RedBullZero Dist to Cluster WaterBottle  Predict Prob. WaterBottle\n",
       "0   1252           7    RedBullZero              7       RedBullZero          1        0       0.795960               51,310                 0.0                   44,455                     0.0                58,658                  0.0                36,314             0.000000                     64,651                  0.000000                     41,432                       0.0                  24,754               0.204040                      20,396                   0.795960                      57,740                        0.0\n",
       "1   1232           7    RedBullZero              7       RedBullZero          1        1       0.793633               53,451                 0.0                   46,560                     0.0                60,849                  0.0                35,317             0.000000                     62,902                  0.000000                     42,819                       0.0                  24,258               0.206367                      19,974                   0.793633                      54,665                        0.0\n",
       "2   2669           7    RedBullZero              7       RedBullZero          1        1       0.801990               53,810                 0.0                   46,914                     0.0                61,215                  0.0                35,166             0.000000                     62,614                  0.000000                     43,074                       0.0                  24,221               0.198010                      19,958                   0.801990                      54,153                        0.0\n",
       "3   2685           7    RedBullZero              7       RedBullZero          1        1       1.000000               53,892                 0.0                   46,983                     0.0                61,322                  0.0                33,961             0.000000                     61,239                  0.000000                     44,426                       0.0                  25,129               0.000000                      20,915                   1.000000                      53,097                        0.0\n",
       "4   1281           7    RedBullZero              6           RedBull          1        0       0.797564               50,834                 0.0                   43,947                     0.0                58,226                  0.0                34,441             0.000000                     62,750                  0.000000                     43,326                       0.0                  26,149               0.797564                      21,811                   0.202436                      56,714                        0.0\n",
       "5   1290           7    RedBullZero              6           RedBull          1        1       0.800739               50,359                 0.0                   43,468                     0.0                57,757                  0.0                33,983             0.000000                     62,391                  0.000000                     43,761                       0.0                  26,704               0.800739                      22,366                   0.199261                      56,847                        0.0\n",
       "6   1264           7    RedBullZero              7       RedBullZero          1        0       0.603736               51,406                 0.0                   44,515                     0.0                58,805                  0.0                34,388             0.000000                     62,524                  0.000000                     43,441                       0.0                  25,874               0.396264                      21,550                   0.603736                      56,082                        0.0\n",
       "7   2677           7    RedBullZero              7       RedBullZero          1        1       0.596168               54,324                 0.0                   47,414                     0.0                61,754                  0.0                34,141             0.000000                     61,287                  0.000000                     44,359                       0.0                  24,848               0.403832                      20,651                   0.596168                      52,765                        0.0\n",
       "8   1244           7    RedBullZero              7       RedBullZero          1        1       0.590079               51,813                 0.0                   44,931                     0.0                59,196                  0.0                35,177             0.000000                     63,263                  0.000000                     42,667                       0.0                  25,146               0.409921                      20,815                   0.590079                      56,285                        0.0\n",
       "9   1300           7    RedBullZero              4        Krombacher          1        1       0.803288               50,213                 0.0                   43,308                     0.0                57,634                  0.0                32,866             0.000000                     61,229                  0.803288                     44,897                       0.0                  27,512               0.196712                      23,192                   0.000000                      56,165                        0.0\n",
       "10  2723           7    RedBullZero              6           RedBull          1        1       0.600538               52,541                 0.0                   45,624                     0.0                59,987                  0.0                32,328             0.000000                     59,901                  0.000000                     45,846                       0.0                  26,892               0.600538                      22,668                   0.399462                      53,333                        0.0\n",
       "11  1276           7    RedBullZero              7       RedBullZero          1        0       0.608453               51,239                 0.0                   44,359                     0.0                58,621                  0.0                35,022             0.000000                     63,264                  0.000000                     42,762                       0.0                  25,558               0.391547                      21,218                   0.608453                      56,755                        0.0\n",
       "12  2718           7    RedBullZero              6           RedBull          1        0       1.000000               52,301                 0.0                   45,385                     0.0                59,743                  0.0                32,516             0.000000                     60,191                  0.000000                     45,586                       0.0                  26,828               1.000000                      22,587                   0.000000                      53,727                        0.0\n",
       "13  1286           7    RedBullZero              7       RedBullZero          1        1       0.607331               50,853                 0.0                   43,964                     0.0                58,248                  0.0                34,315             0.000000                     62,608                  0.000000                     43,458                       0.0                  26,218               0.392669                      21,883                   0.607331                      56,597                        0.0\n",
       "14  2697           7    RedBullZero              7       RedBullZero          1        0       1.000000               53,457                 0.0                   46,543                     0.0                60,897                  0.0                33,194             0.000000                     60,539                  0.000000                     45,144                       0.0                  25,889               0.000000                      21,681                   1.000000                      52,981                        0.0\n",
       "15  2681           7    RedBullZero              7       RedBullZero          1        1       1.000000               53,364                 0.0                   46,456                     0.0                60,790                  0.0                33,922             0.000000                     61,381                  0.000000                     44,321                       0.0                  25,341               0.000000                      21,101                   1.000000                      53,641                        0.0\n",
       "16  2673           7    RedBullZero              7       RedBullZero          1        1       1.000000               54,251                 0.0                   47,335                     0.0                61,693                  0.0                33,365             0.000000                     60,442                  0.000000                     45,202                       0.0                  25,517               0.000000                      21,347                   1.000000                      52,240                        0.0\n",
       "17  2689           7    RedBullZero              7       RedBullZero          1        0       0.803892               53,915                 0.0                   47,005                     0.0                61,344                  0.0                33,975             0.000000                     61,248                  0.000000                     44,416                       0.0                  25,110               0.196108                      20,897                   0.803892                      53,084                        0.0\n",
       "18  1295           7    RedBullZero              6           RedBull          1        1       0.797391               50,271                 0.0                   43,366                     0.0                57,693                  0.0                32,824             0.000000                     61,167                  0.202609                     44,945                       0.0                  27,510               0.797391                      23,192                   0.000000                      56,075                        0.0\n",
       "19  1272           7    RedBullZero              7       RedBullZero          1        0       0.795689               51,129                 0.0                   44,247                     0.0                58,513                  0.0                34,874             0.000000                     63,135                  0.000000                     42,905                       0.0                  25,712               0.204311                      21,372                   0.795689                      56,752                        0.0\n",
       "20  1248           7    RedBullZero              7       RedBullZero          1        1       0.804686               51,312                 0.0                   44,457                     0.0                58,659                  0.0                36,334             0.000000                     64,672                  0.000000                     41,412                       0.0                  24,742               0.195314                      20,383                   0.804686                      57,755                        0.0\n",
       "21  2701           7    RedBullZero              6           RedBull          1        0       0.601633               53,189                 0.0                   46,273                     0.0                60,633                  0.0                32,780             0.000000                     60,174                  0.000000                     45,522                       0.0                  26,311               0.601633                      22,104                   0.398367                      52,964                        0.0\n",
       "22  2693           7    RedBullZero              7       RedBullZero          1        0       0.804050               53,404                 0.0                   46,494                     0.0                60,836                  0.0                33,618             0.000000                     61,029                  0.000000                     44,664                       0.0                  25,566               0.195950                      21,339                   0.804050                      53,362                        0.0\n",
       "23  1260           7    RedBullZero              7       RedBullZero          1        0       0.794938               51,299                 0.0                   44,417                     0.0                58,683                  0.0                34,964             0.000000                     63,184                  0.000000                     42,828                       0.0                  25,561               0.205062                      21,223                   0.794938                      56,648                        0.0\n",
       "24  2727           7    RedBullZero              7       RedBullZero          1        1       1.000000               52,657                 0.0                   45,739                     0.0                60,106                  0.0                32,160             0.000000                     59,677                  0.000000                     46,056                       0.0                  26,988               0.000000                      22,775                   1.000000                      53,088                        0.0\n",
       "25  1256           7    RedBullZero              6           RedBull          1        0       0.609567               51,638                 0.0                   44,748                     0.0                59,033                  0.0                34,616             0.000000                     62,703                  0.000000                     43,233                       0.0                  25,603               0.609567                      21,280                   0.390433                      56,020                        0.0\n",
       "26  2713           7    RedBullZero              7       RedBullZero          1        0       0.803742               52,915                 0.0                   45,999                     0.0                60,357                  0.0                32,733             0.000000                     60,218                  0.000000                     45,500                       0.0                  26,439               0.196258                      22,220                   0.803742                      53,226                        0.0\n",
       "27  2732           7    RedBullZero              6           RedBull          1        1       0.798974               52,803                 0.0                   45,883                     0.0                60,262                  0.0                31,540             0.000000                     58,940                  0.000000                     46,770                       0.0                  27,454               0.798974                      23,271                   0.201026                      52,491                        0.0\n",
       "28  1268           7    RedBullZero              7       RedBullZero          1        0       0.795997               50,870                 0.0                   43,985                     0.0                58,258                  0.0                34,597             0.000000                     62,909                  0.000000                     43,168                       0.0                  26,031               0.204003                      21,691                   0.795997                      56,799                        0.0\n",
       "29  1240           7    RedBullZero              7       RedBullZero          1        1       0.799915               52,119                 0.0                   45,250                     0.0                59,484                  0.0                36,038             0.000000                     64,116                  0.000000                     41,802                       0.0                  24,437               0.200085                      20,095                   0.799915                      56,673                        0.0\n",
       "30  2709           7    RedBullZero              6           RedBull          1        0       0.596408               53,186                 0.0                   46,270                     0.0                60,630                  0.0                32,784             0.000000                     60,179                  0.000000                     45,518                       0.0                  26,309               0.596408                      22,102                   0.403592                      52,969                        0.0\n",
       "31  2737           7    RedBullZero              3             Jever          1        1       0.596705               52,771                 0.0                   45,851                     0.0                60,231                  0.0                31,430             0.596705                     58,830                  0.000000                     46,881                       0.0                  27,556               0.000000                      23,374                   0.403295                      52,449                        0.0\n",
       "32  2705           7    RedBullZero              6           RedBull          1        0       0.800367               52,953                 0.0                   46,039                     0.0                60,390                  0.0                33,066             0.000000                     60,573                  0.000000                     45,148                       0.0                  26,161               0.800367                      21,931                   0.199633                      53,432                        0.0\n",
       "33  1236           7    RedBullZero              7       RedBullZero          1        1       0.600796               52,673                 0.0                   45,786                     0.0                60,065                  0.0                35,209             0.000000                     63,034                  0.000000                     42,770                       0.0                  24,688               0.399204                      20,379                   0.600796                      55,407                        0.0"
      ]
     },
     "execution_count": 91,
     "metadata": {},
     "output_type": "execute_result"
    }
   ],
   "source": [
    "pd.set_option('display.max_rows', 500)\n",
    "pd.set_option('display.max_columns', 500)\n",
    "pd.set_option('display.width', 1000)\n",
    "\n",
    "ambiguous_evaluation = pd.read_csv('evaluation/dataset04_analysis_nearest_neighbors_1.csv', sep=';')\n",
    "ambiguous_evaluation"
   ]
  },
  {
   "cell_type": "code",
   "execution_count": null,
   "metadata": {},
   "outputs": [],
   "source": []
  }
 ],
 "metadata": {
  "kernelspec": {
   "display_name": "Python 3",
   "language": "python",
   "name": "python3"
  },
  "language_info": {
   "codemirror_mode": {
    "name": "ipython",
    "version": 3
   },
   "file_extension": ".py",
   "mimetype": "text/x-python",
   "name": "python",
   "nbconvert_exporter": "python",
   "pygments_lexer": "ipython3",
   "version": "3.6.4"
  }
 },
 "nbformat": 4,
 "nbformat_minor": 4
}
